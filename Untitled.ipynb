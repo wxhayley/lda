{
 "cells": [
  {
   "cell_type": "code",
   "execution_count": 1,
   "id": "b89cd8e1",
   "metadata": {},
   "outputs": [
    {
     "name": "stdout",
     "output_type": "stream",
     "text": [
      "Requirement already satisfied: pandas in d:\\anaconda3\\lib\\site-packages (2.2.0)\n",
      "Requirement already satisfied: numpy<2,>=1.22.4 in d:\\anaconda3\\lib\\site-packages (from pandas) (1.24.4)\n",
      "Requirement already satisfied: python-dateutil>=2.8.2 in d:\\anaconda3\\lib\\site-packages (from pandas) (2.8.2)\n",
      "Requirement already satisfied: pytz>=2020.1 in d:\\anaconda3\\lib\\site-packages (from pandas) (2023.3.post1)\n",
      "Requirement already satisfied: tzdata>=2022.7 in d:\\anaconda3\\lib\\site-packages (from pandas) (2023.4)\n",
      "Requirement already satisfied: six>=1.5 in d:\\anaconda3\\lib\\site-packages (from python-dateutil>=2.8.2->pandas) (1.16.0)\n"
     ]
    }
   ],
   "source": [
    "!pip install pandas"
   ]
  },
  {
   "cell_type": "code",
   "execution_count": 2,
   "id": "22837130",
   "metadata": {},
   "outputs": [],
   "source": [
    "import pandas as pd\n",
    "import re\n",
    "\n",
    "# Replace 'your_input_file.xlsx' and 'your_output_file.xlsx' with your actual file names\n",
    "input_file = 'D:/python/lda/data/data.xlsx'\n",
    "output_file = 'D:/python/lda/data/data_cleaned.xlsx'\n",
    "\n",
    "# Read the Excel file\n",
    "df = pd.read_excel(input_file)\n",
    "\n",
    "# Function to remove hashtags and '@' symbols\n",
    "def remove_hashtags_and_mentions(text):\n",
    "    # Remove hashtags in the format of #...#\n",
    "    text = re.sub(r'#\\w+#', '', text)\n",
    "    # Remove '@' symbols\n",
    "    text = re.sub(r'@\\w+', '', text)\n",
    "    return text\n",
    "\n",
    "# Apply the function to the 'Twitter Post' column\n",
    "df['Modified Post'] = df['content'].apply(remove_hashtags_and_mentions)\n",
    "\n",
    "# Save the modified data to a new Excel file\n",
    "df.to_excel(output_file, index=False)\n"
   ]
  },
  {
   "cell_type": "code",
   "execution_count": 1,
   "id": "274c9926",
   "metadata": {
    "scrolled": true
   },
   "outputs": [
    {
     "name": "stdout",
     "output_type": "stream",
     "text": [
      "Error: name 'input_file_path' is not defined\n"
     ]
    },
    {
     "ename": "NameError",
     "evalue": "name 'df' is not defined",
     "output_type": "error",
     "traceback": [
      "\u001b[1;31m---------------------------------------------------------------------------\u001b[0m",
      "\u001b[1;31mNameError\u001b[0m                                 Traceback (most recent call last)",
      "Cell \u001b[1;32mIn[1], line 29\u001b[0m\n\u001b[0;32m     26\u001b[0m     exit()\n\u001b[0;32m     28\u001b[0m \u001b[38;5;66;03m# Apply the clean_text function to the 'Weibo Post' column\u001b[39;00m\n\u001b[1;32m---> 29\u001b[0m df[\u001b[38;5;124m'\u001b[39m\u001b[38;5;124mCleaned Weibo Post\u001b[39m\u001b[38;5;124m'\u001b[39m] \u001b[38;5;241m=\u001b[39m \u001b[43mdf\u001b[49m[\u001b[38;5;124m'\u001b[39m\u001b[38;5;124mcontent\u001b[39m\u001b[38;5;124m'\u001b[39m]\u001b[38;5;241m.\u001b[39mapply(clean_text)\n\u001b[0;32m     31\u001b[0m \u001b[38;5;66;03m# Save the cleaned data to a new Excel file\u001b[39;00m\n\u001b[0;32m     32\u001b[0m df[[\u001b[38;5;124m'\u001b[39m\u001b[38;5;124mCleaned Weibo Post\u001b[39m\u001b[38;5;124m'\u001b[39m]]\u001b[38;5;241m.\u001b[39mto_excel(output_file_path, index\u001b[38;5;241m=\u001b[39m\u001b[38;5;28;01mFalse\u001b[39;00m)\n",
      "\u001b[1;31mNameError\u001b[0m: name 'df' is not defined"
     ]
    }
   ],
   "source": [
    "import pandas as pd\n",
    "import jieba\n",
    "import re\n",
    "\n",
    "def clean_text(text):\n",
    "    # Tokenize the text using Jieba\n",
    "    tokens = jieba.cut(text, cut_all=False)\n",
    "    \n",
    "    # Remove hashtags and mentions\n",
    "    cleaned_tokens = [token for token in tokens if not re.match(r'(^#\\w+$)|(^@\\w+$)', token)]\n",
    "    \n",
    "    # Join the cleaned tokens back into a string\n",
    "    cleaned_text = ' '.join(cleaned_tokens)\n",
    "    \n",
    "    return cleaned_text\n",
    "\n",
    "# Load the Excel file\n",
    "input_file = 'D:/python/lda/data/data.xlsx'\n",
    "output_file = 'D:/python/lda/data/data_cleaned.xlsx'\n",
    "\n",
    "\n",
    "try:\n",
    "    df = pd.read_excel(input_file_path, header=None, names=['Weibo Post'])\n",
    "except Exception as e:\n",
    "    print(f\"Error: {e}\")\n",
    "    exit()\n",
    "\n",
    "# Apply the clean_text function to the 'Weibo Post' column\n",
    "df['Cleaned Weibo Post'] = df['content'].apply(clean_text)\n",
    "\n",
    "# Save the cleaned data to a new Excel file\n",
    "df[['Cleaned Weibo Post']].to_excel(output_file_path, index=False)\n",
    "\n",
    "print(f'Cleaned data saved to {output_file_path}')\n"
   ]
  },
  {
   "cell_type": "code",
   "execution_count": 1,
   "id": "f9629f1f",
   "metadata": {},
   "outputs": [
    {
     "name": "stdout",
     "output_type": "stream",
     "text": [
      "hello\n"
     ]
    }
   ],
   "source": [
    "print ('hello')"
   ]
  },
  {
   "cell_type": "code",
   "execution_count": null,
   "id": "d3f96fdc",
   "metadata": {},
   "outputs": [],
   "source": []
  }
 ],
 "metadata": {
  "kernelspec": {
   "display_name": "Python 3 (ipykernel)",
   "language": "python",
   "name": "python3"
  },
  "language_info": {
   "codemirror_mode": {
    "name": "ipython",
    "version": 3
   },
   "file_extension": ".py",
   "mimetype": "text/x-python",
   "name": "python",
   "nbconvert_exporter": "python",
   "pygments_lexer": "ipython3",
   "version": "3.9.18"
  }
 },
 "nbformat": 4,
 "nbformat_minor": 5
}
