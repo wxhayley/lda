{
 "cells": [
  {
   "cell_type": "markdown",
   "metadata": {},
   "source": [
    "# sklearn-LDA"
   ]
  },
  {
   "cell_type": "markdown",
   "metadata": {},
   "source": [
    "代码示例：https://mp.weixin.qq.com/s/hMcJtB3Lss1NBalXRTGZlQ （玉树芝兰） <br>\n",
    "可视化：https://blog.csdn.net/qq_39496504/article/details/107125284  <br>\n",
    "sklearn lda参数解读:https://scikit-learn.org/stable/modules/generated/sklearn.decomposition.LatentDirichletAllocation.html\n",
    "<br>中文版参数解读：https://blog.csdn.net/TiffanyRabbit/article/details/76445909\n",
    "<br>LDA原理-视频版：https://www.bilibili.com/video/BV1t54y127U8\n",
    "<br>LDA原理-文字版：https://www.jianshu.com/p/5c510694c07e\n",
    "<br>score的计算方法：https://github.com/scikit-learn/scikit-learn/blob/844b4be24d20fc42cc13b957374c718956a0db39/sklearn/decomposition/_lda.py#L729\n",
    "<br>主题困惑度1：https://blog.csdn.net/weixin_43343486/article/details/109255165\n",
    "<br>主题困惑度2：https://blog.csdn.net/weixin_39676021/article/details/112187210"
   ]
  },
  {
   "cell_type": "markdown",
   "metadata": {},
   "source": [
    "## 1.预处理"
   ]
  },
  {
   "cell_type": "code",
   "execution_count": 4,
   "metadata": {},
   "outputs": [
    {
     "name": "stdout",
     "output_type": "stream",
     "text": [
      "Requirement already satisfied: pandas in d:\\anaconda3\\lib\\site-packages (2.2.0)\n",
      "Requirement already satisfied: numpy<2,>=1.22.4 in d:\\anaconda3\\lib\\site-packages (from pandas) (1.24.4)\n",
      "Requirement already satisfied: python-dateutil>=2.8.2 in d:\\anaconda3\\lib\\site-packages (from pandas) (2.8.2)\n",
      "Requirement already satisfied: pytz>=2020.1 in d:\\anaconda3\\lib\\site-packages (from pandas) (2023.3.post1)\n",
      "Requirement already satisfied: tzdata>=2022.7 in d:\\anaconda3\\lib\\site-packages (from pandas) (2023.4)\n",
      "Requirement already satisfied: six>=1.5 in d:\\anaconda3\\lib\\site-packages (from python-dateutil>=2.8.2->pandas) (1.16.0)\n",
      "Note: you may need to restart the kernel to use updated packages.\n"
     ]
    }
   ],
   "source": [
    "pip install pandas"
   ]
  },
  {
   "cell_type": "code",
   "execution_count": 13,
   "metadata": {
    "scrolled": true
   },
   "outputs": [],
   "source": [
    "import os\n",
    "import pandas as pd\n",
    "import re\n",
    "import jieba\n",
    "import jieba.posseg as psg"
   ]
  },
  {
   "cell_type": "code",
   "execution_count": 2,
   "metadata": {
    "scrolled": true
   },
   "outputs": [
    {
     "name": "stdout",
     "output_type": "stream",
     "text": [
      "Requirement already satisfied: bottleneck in d:\\anaconda3\\lib\\site-packages (1.3.5)\n",
      "Collecting bottleneck\n",
      "  Downloading Bottleneck-1.3.7-cp39-cp39-win_amd64.whl (109 kB)\n",
      "     ---------------------------------------- 0.0/109.9 kB ? eta -:--:--\n",
      "     ------ ------------------------------ 20.5/109.9 kB 640.0 kB/s eta 0:00:01\n",
      "     --------------------------- --------- 81.9/109.9 kB 907.3 kB/s eta 0:00:01\n",
      "     --------------------------- --------- 81.9/109.9 kB 907.3 kB/s eta 0:00:01\n",
      "     ------------------------------------ 109.9/109.9 kB 634.7 kB/s eta 0:00:00\n",
      "Requirement already satisfied: numpy in d:\\anaconda3\\lib\\site-packages (from bottleneck) (1.24.4)\n",
      "Installing collected packages: bottleneck\n",
      "  Attempting uninstall: bottleneck\n",
      "    Found existing installation: Bottleneck 1.3.5\n",
      "    Uninstalling Bottleneck-1.3.5:\n",
      "      Successfully uninstalled Bottleneck-1.3.5\n",
      "Successfully installed bottleneck-1.3.7\n",
      "Note: you may need to restart the kernel to use updated packages.\n"
     ]
    }
   ],
   "source": [
    "pip install --upgrade bottleneck"
   ]
  },
  {
   "cell_type": "code",
   "execution_count": 4,
   "metadata": {},
   "outputs": [
    {
     "name": "stdout",
     "output_type": "stream",
     "text": [
      "Requirement already satisfied: openpyxl in d:\\anaconda3\\lib\\site-packages (3.0.10)\n",
      "Collecting openpyxl\n",
      "  Downloading openpyxl-3.1.2-py2.py3-none-any.whl (249 kB)\n",
      "     ---------------------------------------- 0.0/250.0 kB ? eta -:--:--\n",
      "     - -------------------------------------- 10.2/250.0 kB ? eta -:--:--\n",
      "     ------ ------------------------------ 41.0/250.0 kB 653.6 kB/s eta 0:00:01\n",
      "     ----------------- ------------------ 122.9/250.0 kB 901.1 kB/s eta 0:00:01\n",
      "     ---------------------------------- --- 225.3/250.0 kB 1.4 MB/s eta 0:00:01\n",
      "     -------------------------------------- 250.0/250.0 kB 1.2 MB/s eta 0:00:00\n",
      "Requirement already satisfied: et-xmlfile in d:\\anaconda3\\lib\\site-packages (from openpyxl) (1.1.0)\n",
      "Installing collected packages: openpyxl\n",
      "  Attempting uninstall: openpyxl\n",
      "    Found existing installation: openpyxl 3.0.10\n",
      "    Uninstalling openpyxl-3.0.10:\n",
      "      Successfully uninstalled openpyxl-3.0.10\n",
      "Successfully installed openpyxl-3.1.2\n",
      "Note: you may need to restart the kernel to use updated packages.\n"
     ]
    }
   ],
   "source": [
    "pip install --upgrade openpyxl"
   ]
  },
  {
   "cell_type": "code",
   "execution_count": 14,
   "metadata": {},
   "outputs": [],
   "source": [
    "output_path = 'D:/python/lda/result'\n",
    "file_path = 'D:/python/lda/data'\n",
    "os.chdir(file_path)\n",
    "data=pd.read_excel(\"data.xlsx\")#content type\n",
    "os.chdir(output_path)\n",
    "dic_file = \"D:/python/lda/stop_dic/dict.txt\"\n",
    "stop_file = \"D:/python/lda/stop_dic/stopwords.txt\""
   ]
  },
  {
   "cell_type": "code",
   "execution_count": 15,
   "metadata": {},
   "outputs": [],
   "source": [
    "def chinese_word_cut(mytext):\n",
    "    jieba.load_userdict(dic_file)\n",
    "    jieba.initialize()\n",
    "    try:\n",
    "        stopword_list = open(stop_file,encoding ='utf-8')\n",
    "    except:\n",
    "        stopword_list = []\n",
    "        print(\"error in stop_file\")\n",
    "    stop_list = []\n",
    "    flag_list = ['n','nz','vn']\n",
    "    for line in stopword_list:\n",
    "        line = re.sub(u'\\n|\\\\r', '', line)\n",
    "        stop_list.append(line)\n",
    "    \n",
    "    word_list = []\n",
    "    #jieba分词\n",
    "    seg_list = psg.cut(mytext)\n",
    "    for seg_word in seg_list:\n",
    "        word = re.sub(u'[^\\u4e00-\\u9fa5]','',seg_word.word)\n",
    "        #word = seg_word.word  #如果想要分析英语文本，注释这行代码，启动下行代码\n",
    "        find = 0\n",
    "        for stop_word in stop_list:\n",
    "            if stop_word == word or len(word)<2:     #this word is stopword\n",
    "                    find = 1\n",
    "                    break\n",
    "        if find == 0 and seg_word.flag in flag_list:\n",
    "            word_list.append(word)      \n",
    "    return (\" \").join(word_list)"
   ]
  },
  {
   "cell_type": "code",
   "execution_count": 16,
   "metadata": {},
   "outputs": [
    {
     "name": "stderr",
     "output_type": "stream",
     "text": [
      "Building prefix dict from the default dictionary ...\n",
      "Loading model from cache C:\\Users\\RUOCZH~1\\AppData\\Local\\Temp\\jieba.cache\n",
      "Loading model cost 0.797 seconds.\n",
      "Prefix dict has been built successfully.\n"
     ]
    }
   ],
   "source": [
    "data[\"content_cutted\"] = data.content.apply(chinese_word_cut)"
   ]
  },
  {
   "cell_type": "markdown",
   "metadata": {},
   "source": [
    "## 2.LDA分析"
   ]
  },
  {
   "cell_type": "code",
   "execution_count": 17,
   "metadata": {},
   "outputs": [],
   "source": [
    "from sklearn.feature_extraction.text import TfidfVectorizer, CountVectorizer\n",
    "from sklearn.decomposition import LatentDirichletAllocation"
   ]
  },
  {
   "cell_type": "code",
   "execution_count": 18,
   "metadata": {},
   "outputs": [],
   "source": [
    "def print_top_words(model, feature_names, n_top_words):\n",
    "    tword = []\n",
    "    for topic_idx, topic in enumerate(model.components_):\n",
    "        print(\"Topic #%d:\" % topic_idx)\n",
    "        topic_w = \" \".join([feature_names[i] for i in topic.argsort()[:-n_top_words - 1:-1]])\n",
    "        tword.append(topic_w)\n",
    "        print(topic_w)\n",
    "    return tword"
   ]
  },
  {
   "cell_type": "code",
   "execution_count": 19,
   "metadata": {},
   "outputs": [],
   "source": [
    "n_features = 1000 #提取1000个特征词语\n",
    "tf_vectorizer = CountVectorizer(strip_accents = 'unicode',\n",
    "                                max_features=n_features,\n",
    "                                stop_words='english',\n",
    "                                max_df = 0.5,\n",
    "                                min_df = 10)\n",
    "tf = tf_vectorizer.fit_transform(data.content_cutted)"
   ]
  },
  {
   "cell_type": "code",
   "execution_count": 20,
   "metadata": {},
   "outputs": [
    {
     "data": {
      "text/html": [
       "<style>#sk-container-id-1 {color: black;}#sk-container-id-1 pre{padding: 0;}#sk-container-id-1 div.sk-toggleable {background-color: white;}#sk-container-id-1 label.sk-toggleable__label {cursor: pointer;display: block;width: 100%;margin-bottom: 0;padding: 0.3em;box-sizing: border-box;text-align: center;}#sk-container-id-1 label.sk-toggleable__label-arrow:before {content: \"▸\";float: left;margin-right: 0.25em;color: #696969;}#sk-container-id-1 label.sk-toggleable__label-arrow:hover:before {color: black;}#sk-container-id-1 div.sk-estimator:hover label.sk-toggleable__label-arrow:before {color: black;}#sk-container-id-1 div.sk-toggleable__content {max-height: 0;max-width: 0;overflow: hidden;text-align: left;background-color: #f0f8ff;}#sk-container-id-1 div.sk-toggleable__content pre {margin: 0.2em;color: black;border-radius: 0.25em;background-color: #f0f8ff;}#sk-container-id-1 input.sk-toggleable__control:checked~div.sk-toggleable__content {max-height: 200px;max-width: 100%;overflow: auto;}#sk-container-id-1 input.sk-toggleable__control:checked~label.sk-toggleable__label-arrow:before {content: \"▾\";}#sk-container-id-1 div.sk-estimator input.sk-toggleable__control:checked~label.sk-toggleable__label {background-color: #d4ebff;}#sk-container-id-1 div.sk-label input.sk-toggleable__control:checked~label.sk-toggleable__label {background-color: #d4ebff;}#sk-container-id-1 input.sk-hidden--visually {border: 0;clip: rect(1px 1px 1px 1px);clip: rect(1px, 1px, 1px, 1px);height: 1px;margin: -1px;overflow: hidden;padding: 0;position: absolute;width: 1px;}#sk-container-id-1 div.sk-estimator {font-family: monospace;background-color: #f0f8ff;border: 1px dotted black;border-radius: 0.25em;box-sizing: border-box;margin-bottom: 0.5em;}#sk-container-id-1 div.sk-estimator:hover {background-color: #d4ebff;}#sk-container-id-1 div.sk-parallel-item::after {content: \"\";width: 100%;border-bottom: 1px solid gray;flex-grow: 1;}#sk-container-id-1 div.sk-label:hover label.sk-toggleable__label {background-color: #d4ebff;}#sk-container-id-1 div.sk-serial::before {content: \"\";position: absolute;border-left: 1px solid gray;box-sizing: border-box;top: 0;bottom: 0;left: 50%;z-index: 0;}#sk-container-id-1 div.sk-serial {display: flex;flex-direction: column;align-items: center;background-color: white;padding-right: 0.2em;padding-left: 0.2em;position: relative;}#sk-container-id-1 div.sk-item {position: relative;z-index: 1;}#sk-container-id-1 div.sk-parallel {display: flex;align-items: stretch;justify-content: center;background-color: white;position: relative;}#sk-container-id-1 div.sk-item::before, #sk-container-id-1 div.sk-parallel-item::before {content: \"\";position: absolute;border-left: 1px solid gray;box-sizing: border-box;top: 0;bottom: 0;left: 50%;z-index: -1;}#sk-container-id-1 div.sk-parallel-item {display: flex;flex-direction: column;z-index: 1;position: relative;background-color: white;}#sk-container-id-1 div.sk-parallel-item:first-child::after {align-self: flex-end;width: 50%;}#sk-container-id-1 div.sk-parallel-item:last-child::after {align-self: flex-start;width: 50%;}#sk-container-id-1 div.sk-parallel-item:only-child::after {width: 0;}#sk-container-id-1 div.sk-dashed-wrapped {border: 1px dashed gray;margin: 0 0.4em 0.5em 0.4em;box-sizing: border-box;padding-bottom: 0.4em;background-color: white;}#sk-container-id-1 div.sk-label label {font-family: monospace;font-weight: bold;display: inline-block;line-height: 1.2em;}#sk-container-id-1 div.sk-label-container {text-align: center;}#sk-container-id-1 div.sk-container {/* jupyter's `normalize.less` sets `[hidden] { display: none; }` but bootstrap.min.css set `[hidden] { display: none !important; }` so we also need the `!important` here to be able to override the default hidden behavior on the sphinx rendered scikit-learn.org. See: https://github.com/scikit-learn/scikit-learn/issues/21755 */display: inline-block !important;position: relative;}#sk-container-id-1 div.sk-text-repr-fallback {display: none;}</style><div id=\"sk-container-id-1\" class=\"sk-top-container\"><div class=\"sk-text-repr-fallback\"><pre>LatentDirichletAllocation(learning_offset=50, max_iter=50, n_components=12,\n",
       "                          random_state=0)</pre><b>In a Jupyter environment, please rerun this cell to show the HTML representation or trust the notebook. <br />On GitHub, the HTML representation is unable to render, please try loading this page with nbviewer.org.</b></div><div class=\"sk-container\" hidden><div class=\"sk-item\"><div class=\"sk-estimator sk-toggleable\"><input class=\"sk-toggleable__control sk-hidden--visually\" id=\"sk-estimator-id-1\" type=\"checkbox\" checked><label for=\"sk-estimator-id-1\" class=\"sk-toggleable__label sk-toggleable__label-arrow\">LatentDirichletAllocation</label><div class=\"sk-toggleable__content\"><pre>LatentDirichletAllocation(learning_offset=50, max_iter=50, n_components=12,\n",
       "                          random_state=0)</pre></div></div></div></div></div>"
      ],
      "text/plain": [
       "LatentDirichletAllocation(learning_offset=50, max_iter=50, n_components=12,\n",
       "                          random_state=0)"
      ]
     },
     "execution_count": 20,
     "metadata": {},
     "output_type": "execute_result"
    }
   ],
   "source": [
    "n_topics = 12\n",
    "lda = LatentDirichletAllocation(n_components=n_topics, max_iter=50,\n",
    "                                learning_method='batch',\n",
    "                                learning_offset=50,\n",
    "#                                 doc_topic_prior=0.1,\n",
    "#                                 topic_word_prior=0.01,\n",
    "                               random_state=0)\n",
    "lda.fit(tf)"
   ]
  },
  {
   "cell_type": "markdown",
   "metadata": {},
   "source": [
    "### 2.1输出每个主题对应词语 "
   ]
  },
  {
   "cell_type": "code",
   "execution_count": 19,
   "metadata": {},
   "outputs": [
    {
     "name": "stdout",
     "output_type": "stream",
     "text": [
      "Topic #0:\n",
      "消费者 普通人 共情 穷人 普通 消费 大众 资本家 问题 资本 男人 观众 样子 态度 意识 老百姓 错误 底层 利益 群体 公众 舆论 事件 精英 货主\n",
      "Topic #1:\n",
      "品牌 主播 消费者 价格 直播 眉笔 产品 国货 头部 直播间 每克 商品 电商 商家 营销 市场 黄金 性价比 成本 渠道 化妆品 彩妆 单价 流量 网友\n",
      "Topic #2:\n",
      "直播间 公关 事件 流量 粉丝 网友 影响 销售额 销量 现状 舆论 热度 直播 商品 平台 风波 官方 公关部 营销 淘宝 消费 声明 活粉 集体 用户\n",
      "Topic #3:\n",
      "眉笔 女生 羽毛 网友 个人 块钱 离谱 单位 价值 视频 价格 评论 成本 角度 宣传 口红 货币 资格 粉丝 产品 评价 链接 关系 螺子 专属\n",
      "Topic #4:\n",
      "行业 净收入 公司 网络 韭菜 热点 年度 化妆品 视频 直播 主播 产品 业绩 人士 网红 营销 消费者 价格 年收入 大量 网友 套餐 数据 话题 品牌\n",
      "Topic #5:\n",
      "工作 工资 原因 眉笔 网友 涨工资 直播间 女孩 消费者 块钱 普通人 猪猪 问题 嫌贵 言论 眼睛 价格 视频 老板 直播 争议 消费 月薪 生活 评论\n",
      "Topic #6:\n",
      "直播 大家 社会 时代 情绪 问题 财富 生活 能力 经济 主播 事情 环境 时间 个人 运气 言论 无法 价值 世界 工作 红利 平台 朋友 粉丝\n",
      "Topic #7:\n",
      "公司 工作 感觉 员工 老板 客户 妈妈 有点 有限公司 企业 状态 穷鬼 意思 人民 母亲 头痛 管理 群众 学费 孩子 地方 老师 女孩子 阶级 事儿\n",
      "Topic #8:\n",
      "大家 直播间 女生 直播 言论 建议 产品 评论 工作 主播 视频 消费者 服务 网友 柜台 销售员 销售 反省 问题 学会 权利 信任 彩妆 控制情绪 陪伴\n",
      "Topic #9:\n",
      "国货 品牌 佣金 网友 视频 商战 产品 客服 生产 老牌 合作 比例 套餐 直播间 工厂 一事 热议 箱子 日薪 营收 活力 莲花 营销 财经 新闻\n",
      "Topic #10:\n",
      "视频 直播 言论 网友 粉丝 争议 卖货 评论 事件 娱乐 投票 表情 发文 感觉 助理 眼泪 影响 职场 嫌贵 情绪 师洋 调查 小哥 新闻 状态\n",
      "Topic #11:\n",
      "医生 胸外科 手术 视频 言论 顶级 工资 医院 患者 薪资 眉笔 胸科 病人 门诊 职业 老师 主任医师 行业 现实 笑容 出院 先生 国家 农民 奖金\n"
     ]
    }
   ],
   "source": [
    "n_top_words = 25\n",
    "tf_feature_names = tf_vectorizer.get_feature_names_out()\n",
    "topic_word = print_top_words(lda, tf_feature_names, n_top_words)"
   ]
  },
  {
   "cell_type": "markdown",
   "metadata": {},
   "source": [
    "### 2.2输出每篇文章对应主题 "
   ]
  },
  {
   "cell_type": "code",
   "execution_count": 20,
   "metadata": {},
   "outputs": [],
   "source": [
    "import numpy as np"
   ]
  },
  {
   "cell_type": "code",
   "execution_count": 21,
   "metadata": {},
   "outputs": [],
   "source": [
    "topics=lda.transform(tf)"
   ]
  },
  {
   "cell_type": "code",
   "execution_count": 23,
   "metadata": {},
   "outputs": [
    {
     "name": "stdout",
     "output_type": "stream",
     "text": [
      "Requirement already satisfied: xlsxwriter in d:\\anaconda3\\lib\\site-packages (3.0.3)\n",
      "Collecting xlsxwriter\n",
      "  Downloading XlsxWriter-3.1.9-py3-none-any.whl.metadata (2.6 kB)\n",
      "Downloading XlsxWriter-3.1.9-py3-none-any.whl (154 kB)\n",
      "   ---------------------------------------- 0.0/154.8 kB ? eta -:--:--\n",
      "   ---------------------------------------- 0.0/154.8 kB ? eta -:--:--\n",
      "   ---------------------------------------- 0.0/154.8 kB ? eta -:--:--\n",
      "   ---------------------------------------- 0.0/154.8 kB ? eta -:--:--\n",
      "   ---------------------------------------- 0.0/154.8 kB ? eta -:--:--\n",
      "   ---------------------------------------- 0.0/154.8 kB ? eta -:--:--\n",
      "   ---------------------------------------- 0.0/154.8 kB ? eta -:--:--\n",
      "   ---------------------------------------- 0.0/154.8 kB ? eta -:--:--\n",
      "   ------- -------------------------------- 30.7/154.8 kB 1.4 MB/s eta 0:00:01\n",
      "   ------- -------------------------------- 30.7/154.8 kB 1.4 MB/s eta 0:00:01\n",
      "   ------- -------------------------------- 30.7/154.8 kB 1.4 MB/s eta 0:00:01\n",
      "   ---------- ---------------------------- 41.0/154.8 kB 245.8 kB/s eta 0:00:01\n",
      "   --------------- ----------------------- 61.4/154.8 kB 273.8 kB/s eta 0:00:01\n",
      "   -------------------- ------------------ 81.9/154.8 kB 328.8 kB/s eta 0:00:01\n",
      "   -------------------- ------------------ 81.9/154.8 kB 328.8 kB/s eta 0:00:01\n",
      "   -------------------- ------------------ 81.9/154.8 kB 328.8 kB/s eta 0:00:01\n",
      "   -------------------- ------------------ 81.9/154.8 kB 328.8 kB/s eta 0:00:01\n",
      "   -------------------- ------------------ 81.9/154.8 kB 328.8 kB/s eta 0:00:01\n",
      "   -------------------- ------------------ 81.9/154.8 kB 328.8 kB/s eta 0:00:01\n",
      "   -------------------- ------------------ 81.9/154.8 kB 328.8 kB/s eta 0:00:01\n",
      "   -------------------- ------------------ 81.9/154.8 kB 328.8 kB/s eta 0:00:01\n",
      "   -------------------- ------------------ 81.9/154.8 kB 328.8 kB/s eta 0:00:01\n",
      "   -------------------- ------------------ 81.9/154.8 kB 328.8 kB/s eta 0:00:01\n",
      "   -------------------- ------------------ 81.9/154.8 kB 328.8 kB/s eta 0:00:01\n",
      "   -------------------- ------------------ 81.9/154.8 kB 328.8 kB/s eta 0:00:01\n",
      "   -------------------- ------------------ 81.9/154.8 kB 328.8 kB/s eta 0:00:01\n",
      "   -------------------- ------------------ 81.9/154.8 kB 328.8 kB/s eta 0:00:01\n",
      "   -------------------- ------------------ 81.9/154.8 kB 328.8 kB/s eta 0:00:01\n",
      "   -------------------- ------------------ 81.9/154.8 kB 328.8 kB/s eta 0:00:01\n",
      "   -------------------- ------------------ 81.9/154.8 kB 328.8 kB/s eta 0:00:01\n",
      "   -------------------- ------------------ 81.9/154.8 kB 328.8 kB/s eta 0:00:01\n",
      "   -------------------- ------------------ 81.9/154.8 kB 328.8 kB/s eta 0:00:01\n",
      "   ---------------------------- ---------- 112.6/154.8 kB 91.0 kB/s eta 0:00:01\n",
      "   ---------------------------- ---------- 112.6/154.8 kB 91.0 kB/s eta 0:00:01\n",
      "   ---------------------------- ---------- 112.6/154.8 kB 91.0 kB/s eta 0:00:01\n",
      "   ---------------------------- ---------- 112.6/154.8 kB 91.0 kB/s eta 0:00:01\n",
      "   ---------------------------- ---------- 112.6/154.8 kB 91.0 kB/s eta 0:00:01\n",
      "   ------------------------------ -------- 122.9/154.8 kB 83.9 kB/s eta 0:00:01\n",
      "   -------------------------------------  153.6/154.8 kB 100.8 kB/s eta 0:00:01\n",
      "   --------------------------------------- 154.8/154.8 kB 98.4 kB/s eta 0:00:00\n",
      "Installing collected packages: xlsxwriter\n",
      "  Attempting uninstall: xlsxwriter\n",
      "    Found existing installation: XlsxWriter 3.0.3\n",
      "    Uninstalling XlsxWriter-3.0.3:\n",
      "      Successfully uninstalled XlsxWriter-3.0.3\n",
      "Successfully installed xlsxwriter-3.1.9\n",
      "Note: you may need to restart the kernel to use updated packages.\n"
     ]
    }
   ],
   "source": [
    "pip install --upgrade xlsxwriter"
   ]
  },
  {
   "cell_type": "code",
   "execution_count": 1,
   "metadata": {},
   "outputs": [
    {
     "ename": "NameError",
     "evalue": "name 'topics' is not defined",
     "output_type": "error",
     "traceback": [
      "\u001b[1;31m---------------------------------------------------------------------------\u001b[0m",
      "\u001b[1;31mNameError\u001b[0m                                 Traceback (most recent call last)",
      "Cell \u001b[1;32mIn[1], line 2\u001b[0m\n\u001b[0;32m      1\u001b[0m topic \u001b[38;5;241m=\u001b[39m []\n\u001b[1;32m----> 2\u001b[0m \u001b[38;5;28;01mfor\u001b[39;00m t \u001b[38;5;129;01min\u001b[39;00m \u001b[43mtopics\u001b[49m:\n\u001b[0;32m      3\u001b[0m     topic\u001b[38;5;241m.\u001b[39mappend(\u001b[38;5;124m\"\u001b[39m\u001b[38;5;124mTopic #\u001b[39m\u001b[38;5;124m\"\u001b[39m\u001b[38;5;241m+\u001b[39m\u001b[38;5;28mstr\u001b[39m(\u001b[38;5;28mlist\u001b[39m(t)\u001b[38;5;241m.\u001b[39mindex(np\u001b[38;5;241m.\u001b[39mmax(t))))\n\u001b[0;32m      4\u001b[0m data[\u001b[38;5;124m'\u001b[39m\u001b[38;5;124m概率最大的主题序号\u001b[39m\u001b[38;5;124m'\u001b[39m]\u001b[38;5;241m=\u001b[39mtopic\n",
      "\u001b[1;31mNameError\u001b[0m: name 'topics' is not defined"
     ]
    }
   ],
   "source": [
    "topic = []\n",
    "for t in topics:\n",
    "    topic.append(\"Topic #\"+str(list(t).index(np.max(t))))\n",
    "data['概率最大的主题序号']=topic\n",
    "data['每个主题对应概率']=list(topics)\n",
    "data.to_excel(\"data_topic.xlsx\",index=False)"
   ]
  },
  {
   "cell_type": "markdown",
   "metadata": {},
   "source": [
    "### 2.3可视化 "
   ]
  },
  {
   "cell_type": "code",
   "execution_count": 21,
   "metadata": {},
   "outputs": [
    {
     "name": "stdout",
     "output_type": "stream",
     "text": [
      "Requirement already satisfied: pyldavis in d:\\anaconda3\\lib\\site-packages (3.4.1)Note: you may need to restart the kernel to use updated packages.\n",
      "\n",
      "Requirement already satisfied: scipy in d:\\anaconda3\\lib\\site-packages (from pyldavis) (1.9.1)\n",
      "Requirement already satisfied: gensim in d:\\anaconda3\\lib\\site-packages (from pyldavis) (4.1.2)\n",
      "Requirement already satisfied: jinja2 in d:\\anaconda3\\lib\\site-packages (from pyldavis) (2.11.3)\n",
      "Requirement already satisfied: numpy>=1.24.2 in d:\\anaconda3\\lib\\site-packages (from pyldavis) (1.24.4)\n",
      "Requirement already satisfied: scikit-learn>=1.0.0 in d:\\anaconda3\\lib\\site-packages (from pyldavis) (1.0.2)\n",
      "Requirement already satisfied: numexpr in d:\\anaconda3\\lib\\site-packages (from pyldavis) (2.8.3)\n",
      "Requirement already satisfied: setuptools in d:\\anaconda3\\lib\\site-packages (from pyldavis) (63.4.1)\n",
      "Requirement already satisfied: funcy in d:\\anaconda3\\lib\\site-packages (from pyldavis) (2.0)\n",
      "Requirement already satisfied: joblib>=1.2.0 in d:\\anaconda3\\lib\\site-packages (from pyldavis) (1.3.2)\n",
      "Requirement already satisfied: pandas>=2.0.0 in d:\\anaconda3\\lib\\site-packages (from pyldavis) (2.2.0)\n",
      "Requirement already satisfied: tzdata>=2022.7 in d:\\anaconda3\\lib\\site-packages (from pandas>=2.0.0->pyldavis) (2023.4)\n",
      "Requirement already satisfied: python-dateutil>=2.8.2 in d:\\anaconda3\\lib\\site-packages (from pandas>=2.0.0->pyldavis) (2.8.2)\n",
      "Requirement already satisfied: pytz>=2020.1 in d:\\anaconda3\\lib\\site-packages (from pandas>=2.0.0->pyldavis) (2022.1)\n",
      "Requirement already satisfied: threadpoolctl>=2.0.0 in d:\\anaconda3\\lib\\site-packages (from scikit-learn>=1.0.0->pyldavis) (2.2.0)\n",
      "Requirement already satisfied: smart-open>=1.8.1 in d:\\anaconda3\\lib\\site-packages (from gensim->pyldavis) (5.2.1)\n",
      "Requirement already satisfied: MarkupSafe>=0.23 in d:\\anaconda3\\lib\\site-packages (from jinja2->pyldavis) (2.0.1)\n",
      "Requirement already satisfied: packaging in d:\\anaconda3\\lib\\site-packages (from numexpr->pyldavis) (21.3)\n",
      "Requirement already satisfied: six>=1.5 in d:\\anaconda3\\lib\\site-packages (from python-dateutil>=2.8.2->pandas>=2.0.0->pyldavis) (1.16.0)\n",
      "Requirement already satisfied: pyparsing!=3.0.5,>=2.0.2 in d:\\anaconda3\\lib\\site-packages (from packaging->numexpr->pyldavis) (3.0.9)\n"
     ]
    }
   ],
   "source": [
    "%pip install pyldavis"
   ]
  },
  {
   "cell_type": "code",
   "execution_count": 26,
   "metadata": {},
   "outputs": [
    {
     "ename": "ModuleNotFoundError",
     "evalue": "No module named 'pyLDAvis.sklearn'",
     "output_type": "error",
     "traceback": [
      "\u001b[1;31m---------------------------------------------------------------------------\u001b[0m",
      "\u001b[1;31mModuleNotFoundError\u001b[0m                       Traceback (most recent call last)",
      "\u001b[1;32m~\\AppData\\Local\\Temp\\ipykernel_16944\\3465358470.py\u001b[0m in \u001b[0;36m<module>\u001b[1;34m\u001b[0m\n\u001b[0;32m      1\u001b[0m \u001b[1;32mimport\u001b[0m \u001b[0mpyLDAvis\u001b[0m\u001b[1;33m\u001b[0m\u001b[1;33m\u001b[0m\u001b[0m\n\u001b[1;32m----> 2\u001b[1;33m \u001b[1;32mimport\u001b[0m \u001b[0mpyLDAvis\u001b[0m\u001b[1;33m.\u001b[0m\u001b[0msklearn\u001b[0m\u001b[1;33m\u001b[0m\u001b[1;33m\u001b[0m\u001b[0m\n\u001b[0m\u001b[0;32m      3\u001b[0m \u001b[1;33m...\u001b[0m\u001b[1;33m\u001b[0m\u001b[1;33m\u001b[0m\u001b[0m\n\u001b[0;32m      4\u001b[0m \u001b[0mpyLDAvis\u001b[0m\u001b[1;33m.\u001b[0m\u001b[0msklearn\u001b[0m\u001b[1;33m.\u001b[0m\u001b[0mprepare\u001b[0m\u001b[1;33m\u001b[0m\u001b[1;33m\u001b[0m\u001b[0m\n",
      "\u001b[1;31mModuleNotFoundError\u001b[0m: No module named 'pyLDAvis.sklearn'"
     ]
    }
   ],
   "source": [
    "import pyLDAvis\n",
    "import pyLDAvis.sklearn\n",
    "...\n",
    "pyLDAvis.sklearn.prepare"
   ]
  },
  {
   "cell_type": "code",
   "execution_count": 31,
   "metadata": {},
   "outputs": [
    {
     "name": "stderr",
     "output_type": "stream",
     "text": [
      "D:\\software\\anaconda\\lib\\site-packages\\ipykernel\\ipkernel.py:287: DeprecationWarning: `should_run_async` will not call `transform_cell` automatically in the future. Please pass the result to `transformed_cell` argument and any exception that happen during thetransform in `preprocessing_exc_tuple` in IPython 7.17 and above.\n",
      "  and should_run_async(code)\n"
     ]
    },
    {
     "data": {
      "text/html": [
       "\n",
       "<link rel=\"stylesheet\" type=\"text/css\" href=\"https://cdn.jsdelivr.net/gh/bmabey/pyLDAvis@3.3.1/pyLDAvis/js/ldavis.v1.0.0.css\">\n",
       "\n",
       "\n",
       "<div id=\"ldavis_el524025922287972327948571447\"></div>\n",
       "<script type=\"text/javascript\">\n",
       "\n",
       "var ldavis_el524025922287972327948571447_data = {\"mdsDat\": {\"x\": [-0.013863149987170158, -0.13326757177131823, 0.2571094974137888, 0.11644502456798038, -0.06464774087273016, 0.12715096593502334, -0.07828340707599318, -0.21064361820958075], \"y\": [0.11041221033496819, 0.10801054654675804, 0.21374362350867795, -0.28333293019871114, -0.014086167222612958, -0.06642775551873542, -0.09740993352175875, 0.029090406071413954], \"topics\": [1, 2, 3, 4, 5, 6, 7, 8], \"cluster\": [1, 1, 1, 1, 1, 1, 1, 1], \"Freq\": [17.41423709420961, 14.511345095316555, 14.478576615458227, 14.122054434500091, 12.24621178701099, 11.227999556631419, 9.416113891971781, 6.583461524901326]}, \"tinfo\": {\"Term\": [\"\\u4e13\\u5bb6\", \"\\u6bd4\\u8d5b\", \"\\u7535\\u5f71\", \"\\u7f51\\u53cb\", \"\\u6e38\\u620f\", \"\\u8001\\u5e08\", \"\\u5b66\\u751f\", \"\\u4e3b\\u961f\", \"\\u8d54\\u7387\", \"\\u4e3b\\u6301\\u4eba\", \"\\u7403\\u961f\", \"\\u538b\\u529b\", \"\\u9879\\u76ee\", \"\\u7ecf\\u6d4e\", \"\\u7535\\u5b50\\u7ade\\u6280\", \"\\u7968\\u623f\", \"\\u8d70\\u52bf\", \"\\u5f71\\u7247\", \"\\u5efa\\u7b51\", \"\\u73a9\\u5bb6\", \"\\u6295\\u8d44\", \"\\u5927\\u5b66\", \"\\u5b66\\u6821\", \"\\u4e3b\\u573a\", \"\\u516c\\u53f8\", \"\\u89c2\\u4f17\", \"\\u53d1\\u5c55\", \"\\u653f\\u5e9c\", \"\\u6f14\\u5458\", \"\\u5730\\u4ea7\", \"\\u8d44\\u672c\", \"\\u7eff\\u8272\", \"\\u8d37\\u6b3e\", \"\\u4f4f\\u623f\", \"\\u5c45\\u6c11\", \"\\u503a\\u52a1\", \"\\u5730\\u94c1\", \"\\u7ecf\\u8425\", \"\\u516c\\u6c11\", \"\\u56fd\\u4f1a\", \"\\u653f\\u5e9c\", \"\\u4fe1\\u8d37\", \"\\u53f7\\u7ebf\", \"\\u533b\\u7597\", \"\\u63aa\\u65bd\", \"\\u65c5\\u6e38\", \"\\u603b\\u7edf\", \"\\u5c01\\u9762\", \"\\u653f\\u7b56\", \"\\u5de5\\u8d44\", \"\\u5e02\\u6c11\", \"\\u5458\\u5de5\", \"\\u57fa\\u91d1\", \"\\u673a\\u9047\", \"\\u8865\\u8d34\", \"\\u7ecf\\u6d4e\", \"\\u8d27\\u5e01\", \"\\u6d88\\u8d39\\u8005\", \"\\u91d1\\u878d\", \"\\u5546\\u4e1a\", \"\\u4f01\\u4e1a\", \"\\u8d1f\\u8d23\\u4eba\", \"\\u6295\\u8d44\", \"\\u4e1a\\u52a1\", \"\\u6587\\u7ae0\", \"\\u94f6\\u884c\", \"\\u6539\\u9769\", \"\\u7ba1\\u7406\", \"\\u8ba1\\u5212\", \"\\u4eba\\u58eb\", \"\\u4ea7\\u4e1a\", \"\\u8d44\\u91d1\", \"\\u5e02\\u573a\", \"\\u56fd\\u5bb6\", \"\\u6d88\\u8d39\", \"\\u6295\\u8d44\\u8005\", \"\\u53d1\\u5c55\", \"\\u516c\\u53f8\", \"\\u673a\\u6784\", \"\\u670d\\u52a1\", \"\\u5f71\\u54cd\", \"\\u95ee\\u9898\", \"\\u884c\\u4e1a\", \"\\u98ce\\u9669\", \"\\u5168\\u7403\", \"\\u793e\\u4f1a\", \"\\u6280\\u672f\", \"\\u60c5\\u51b5\", \"\\u9879\\u76ee\", \"\\u6237\\u578b\", \"\\u522b\\u5885\", \"\\u9ad8\\u7aef\", \"\\u6837\\u677f\\u95f4\", \"\\u7269\\u4e1a\", \"\\u697c\\u76d8\", \"\\u623f\\u5b50\", \"\\u4e2d\\u5f0f\", \"\\u8c6a\\u5b85\", \"\\u5efa\\u7b51\", \"\\u5c0f\\u533a\", \"\\u56ed\\u6797\", \"\\u8d2d\\u623f\", \"\\u5ead\\u9662\", \"\\u666f\\u89c2\", \"\\u7f6e\\u4e1a\", \"\\u623f\\u6e90\", \"\\u4eba\\u5c45\", \"\\u4e1a\\u4e3b\", \"\\u8bba\\u575b\", \"\\u5730\\u5757\", \"\\u5efa\\u7b51\\u9762\\u79ef\", \"\\u79d8\\u4e66\\u957f\", \"\\u5730\\u6bb5\", \"\\u5bb6\\u5c45\", \"\\u697c\\u5e02\", \"\\u4f4e\\u5bc6\\u5ea6\", \"\\u8bbe\\u8ba1\\u5e08\", \"\\u603b\\u4ef7\", \"\\u4f4f\\u5b85\", \"\\u5730\\u4ea7\", \"\\u516c\\u5bd3\", \"\\u5747\\u4ef7\", \"\\u7406\\u5ff5\", \"\\u9762\\u79ef\", \"\\u533a\\u57df\", \"\\u827a\\u672f\", \"\\u5f00\\u53d1\\u5546\", \"\\u9879\\u76ee\", \"\\u793e\\u533a\", \"\\u8bbe\\u8ba1\", \"\\u4ea7\\u54c1\", \"\\u5ba2\\u6237\", \"\\u7a7a\\u95f4\", \"\\u529f\\u80fd\", \"\\u751f\\u6d3b\", \"\\u6d3b\\u52a8\", \"\\u6587\\u5316\", \"\\u8bc4\\u8bba\", \"\\u96c6\\u56e2\", \"\\u89c4\\u5212\", \"\\u56fd\\u9645\", \"\\u65b0\\u6d6a\", \"\\u53d1\\u5c55\", \"\\u4e3b\\u6301\\u4eba\", \"\\u5e02\\u573a\", \"\\u4e2d\\u5fc3\", \"\\u73af\\u5883\", \"a\\u80a1\", \"\\u5750\\u5802\", \"\\u540e\\u5e02\", \"\\u884c\\u60c5\", \"\\u4ef7\\u4f4d\", \"\\u6307\\u70b9\", \"\\u652f\\u6491\\u70b9\", \"\\u8d70\\u52bf\", \"\\u652f\\u6491\\u4f4d\", \"\\u6cb9\\u4ef7\", \"\\u4e2a\\u80a1\", \"\\u89e3\\u5957\", \"\\u4f4e\\u70b9\", \"\\u6574\\u7406\", \"\\u6a2a\\u76d8\", \"\\u6709\\u8272\", \"\\u4e2d\\u91d1\", \"\\u73b0\\u4ef7\", \"\\u5747\\u7ebf\", \"\\u65b0\\u80a1\", \"\\u9ad8\\u70b9\", \"\\u5468\\u7ebf\", \"\\u963b\\u529b\", \"\\u963b\\u529b\\u4f4d\", \"\\u671f\\u8d27\", \"\\u5168\\u4ed3\", \"\\u539f\\u6cb9\", \"\\u77ff\\u4e1a\", \"\\u91d1\\u878d\\u80a1\", \"\\u8df3\\u7a7a\", \"\\u4e13\\u5bb6\", \"\\u80a1\\u7968\", \"\\u9ec4\\u91d1\", \"\\u5927\\u76d8\", \"\\u80a1\\u5e02\", \"\\u8001\\u5e08\", \"\\u7f51\\u53cb\", \"\\u538b\\u529b\", \"\\u8d22\\u7ecf\", \"\\u57fa\\u672c\\u9762\", \"\\u677f\\u5757\", \"\\u7a81\\u7834\", \"\\u5206\\u6790\", \"\\u4e1a\\u7ee9\", \"\\u8d8b\\u52bf\", \"\\u5f62\\u6001\", \"\\u6210\\u672c\", \"\\u80a1\\u4ef7\", \"\\u5efa\\u8bae\", \"\\u8c03\\u6574\", \"\\u95ee\\u9898\", \"\\u673a\\u4f1a\", \"\\u65b0\\u6d6a\", \"\\u505a\\u5ba2\", \"\\u4ef7\\u683c\", \"\\u5e02\\u573a\", \"\\u516c\\u53f8\", \"\\u7403\\u961f\", \"\\u7403\\u5458\", \"\\u6bd4\\u8d5b\", \"\\u8054\\u8d5b\", \"\\u603b\\u51b3\\u8d5b\", \"\\u7bee\\u677f\", \"\\u5947\\u624d\", \"\\u6218\\u961f\", \"\\u8d5b\\u533a\", \"\\u52a9\\u653b\", \"\\u6e56\\u4eba\", \"\\u5185\\u7ebf\", \"\\u706b\\u7bad\\u961f\", \"\\u5f69\\u7968\", \"\\u5bf9\\u9635\", \"\\u6295\\u7bee\", \"\\u547d\\u4e2d\\u7387\", \"\\u5f00\\u5c40\", \"\\u5927\\u5956\\u8d5b\", \"\\u70ed\\u706b\", \"\\u7eb3\\u65af\", \"\\u6d3b\\u585e\", \"\\u767e\\u4e8b\", \"\\u4e3b\\u6559\\u7ec3\", \"\\u72af\\u89c4\", \"\\u706b\\u7bad\", \"\\u524d\\u950b\", \"\\u7403\\u573a\", \"\\u5feb\\u653b\", \"\\u6218\\u672f\", \"\\u4f53\\u80b2\\u8baf\", \"\\u8d5b\\u4e8b\", \"\\u4e0a\\u573a\", \"\\u6559\\u7ec3\", \"\\u5927\\u8d5b\", \"\\u6218\\u7ee9\", \"\\u7f51\\u5427\", \"\\u7403\\u8ff7\", \"\\u51b3\\u8d5b\", \"\\u4e3b\\u573a\", \"\\u961f\\u53cb\", \"\\u5ba2\\u573a\", \"\\u8bad\\u7ec3\", \"\\u65f6\\u95f4\", \"\\u72b6\\u6001\", \"\\u673a\\u4f1a\", \"\\u65b0\\u6d6a\", \"\\u95ee\\u9898\", \"\\u60c5\\u51b5\", \"\\u5b9e\\u529b\", \"\\u4f18\\u52bf\", \"\\u79d1\\u5b66\\u5bb6\", \"\\u98de\\u673a\", \"\\u8863\\u670d\", \"\\u6742\\u5fd7\", \"\\u6837\\u5b50\", \"\\u7167\\u7247\", \"\\u6f14\\u620f\", \"\\u5b5d\\u6587\", \"\\u5de5\\u7a0b\\u5e08\", \"\\u540c\\u4e8b\", \"\\u5916\\u56fd\\u4eba\", \"\\u773c\\u775b\", \"\\u52a8\\u7269\", \"\\u4eba\\u5bb6\", \"\\u5973\\u513f\", \"\\u6295\\u7968\", \"\\u79d1\\u5b66\", \"\\u4eba\\u7c7b\", \"\\u7f8e\\u5973\", \"\\u9910\\u5385\", \"\\u56de\\u5bb6\", \"\\u5fae\\u7b11\", \"\\u5988\\u5988\", \"\\u5973\\u751f\", \"\\u5973\\u5b69\", \"\\u62a5\\u7eb8\", \"\\u58f0\\u97f3\", \"\\u7236\\u4eb2\", \"\\u66dd\\u5149\", \"\\u751f\\u547d\", \"\\u6bcd\\u4eb2\", \"\\u7f51\\u7ad9\", \"\\u4e3b\\u6301\\u4eba\", \"\\u5730\\u7403\", \"\\u4e92\\u8054\\u7f51\", \"\\u4eba\\u5458\", \"\\u7814\\u7a76\", \"\\u5de5\\u4f5c\", \"\\u4e8b\\u60c5\", \"\\u670b\\u53cb\", \"\\u7ecf\\u5386\", \"\\u540d\\u5b57\", \"\\u73b0\\u573a\", \"\\u4eba\\u4eec\", \"\\u611f\\u89c9\", \"\\u8fc7\\u7a0b\", \"\\u5b69\\u5b50\", \"\\u8bb0\\u8005\", \"\\u65f6\\u95f4\", \"\\u5927\\u4f17\", \"\\u89c6\\u9891\", \"\\u751f\\u6d3b\", \"\\u8eab\\u4efd\", \"\\u65b0\\u6d6a\", \"\\u5185\\u5bb9\", \"\\u5730\\u65b9\", \"\\u6587\\u5316\", \"\\u4e16\\u754c\", \"\\u95ee\\u9898\", \"\\u7f51\\u53cb\", \"\\u7ed3\\u679c\", \"\\u8001\\u5e08\", \"\\u6d3b\\u52a8\", \"\\u5b66\\u751f\", \"\\u4e3b\\u961f\", \"\\u8d54\\u7387\", \"\\u5ba2\\u80dc\", \"\\u79fb\\u6c11\", \"\\u7559\\u5b66\\u751f\", \"\\u5ba2\\u961f\", \"\\u5bb6\\u957f\", \"\\u8bfe\\u7a0b\", \"\\u8bba\\u6587\", \"\\u82f1\\u8bed\", \"\\u534a\\u7403\", \"\\u5956\\u5b66\\u91d1\", \"\\u521d\\u76d8\", \"\\u751f\\u6d3b\\u8d39\", \"\\u7814\\u7a76\\u751f\", \"\\u6fb3\\u5f69\", \"\\u9662\\u6821\", \"\\u5b66\\u8d39\", \"\\u6c34\\u4f4d\", \"\\u5b50\\u5973\", \"\\u5b66\\u672f\", \"\\u6bd5\\u4e1a\\u751f\", \"\\u5e73\\u624b\", \"\\u5b66\\u6821\", \"\\u540d\\u6821\", \"\\u6c47\\u7387\", \"\\u7855\\u58eb\", \"\\u5927\\u5b66\", \"\\u529e\\u7406\", \"\\u6559\\u80b2\", \"\\u8bed\\u8a00\", \"\\u4e00\\u7403\", \"\\u8d62\\u7403\", \"\\u4e13\\u4e1a\", \"\\u6bd5\\u4e1a\", \"\\u5e73\\u5c40\", \"\\u6570\\u636e\", \"\\u5fc3\\u7406\", \"\\u8db3\\u5f69\", \"\\u540c\\u5b66\", \"\\u80fd\\u529b\", \"\\u672c\\u573a\", \"\\u60c5\\u51b5\", \"\\u516c\\u53f8\", \"\\u4e3b\\u573a\", \"\\u6210\\u7ee9\", \"\\u5efa\\u8bae\", \"\\u95ee\\u9898\", \"\\u5b69\\u5b50\", \"\\u56fd\\u9645\", \"\\u7535\\u5f71\", \"\\u7968\\u623f\", \"\\u5f71\\u7247\", \"\\u6f14\\u5458\", \"\\u7535\\u5f71\\u8282\", \"\\u4e3b\\u6f14\", \"\\u9999\\u6e2f\\u7535\\u5f71\", \"\\u65b0\\u7247\", \"\\u5267\\u672c\", \"\\u5f00\\u5956\", \"\\u672c\\u7247\", \"\\u5267\\u7ec4\", \"\\u7247\\u5b50\", \"\\u5f71\\u540e\", \"\\u6f14\\u6280\", \"\\u5973\\u4e3b\\u89d2\", \"\\u7537\\u4e3b\\u89d2\", \"\\u559c\\u5267\", \"\\u9662\\u7ebf\", \"\\u7535\\u5f71\\u9662\", \"\\u4e3b\\u89d2\", \"\\u5267\\u60c5\", \"\\u5f71\\u8ff7\", \"\\u9970\\u6f14\", \"\\u5f71\\u8bc4\\u4eba\", \"\\u7f16\\u5267\", \"\\u5f71\\u9662\", \"\\u7535\\u89c6\\u5267\", \"\\u5b63\\u519b\", \"\\u5973\\u661f\", \"\\u5927\\u7247\", \"\\u5185\\u5730\", \"\\u4f5c\\u54c1\", \"\\u89c2\\u4f17\", \"\\u6545\\u4e8b\", \"\\u7a3f\\u4ef6\", \"\\u529f\\u592b\", \"\\u5236\\u4f5c\", \"\\u89d2\\u8272\", \"\\u534e\\u8bed\", \"\\u5973\\u4eba\", \"\\u5a31\\u4e50\", \"\\u4f20\\u5947\", \"\\u9898\\u6750\", \"\\u5408\\u4f5c\", \"\\u4eba\\u751f\", \"\\u5a92\\u4f53\", \"\\u5e02\\u573a\", \"\\u65b9\\u9762\", \"\\u6210\\u7ee9\", \"\\u516c\\u53f8\", \"\\u4eba\\u7269\", \"\\u56fd\\u9645\", \"\\u7535\\u5b50\\u7ade\\u6280\", \"\\u73a9\\u5bb6\", \"\\u6e38\\u620f\", \"\\u592a\\u7a7a\", \"\\u661f\\u9645\", \"\\u624b\\u673a\", \"\\u7528\\u6237\", \"\\u5956\\u91d1\", \"\\u7f51\\u7edc\\u6e38\\u620f\", \"\\u7231\\u597d\\u8005\", \"\\u8fd0\\u8425\\u5546\", \"\\u9b54\\u517d\", \"\\u8bbe\\u5907\", \"\\u8f68\\u9053\", \"\\u79fb\\u52a8\", \"\\u5956\\u52b1\", \"\\u6a21\\u5f0f\", \"\\u804c\\u4e1a\", \"\\u5206\\u914d\", \"\\u7248\\u672c\", \"\\u5e73\\u53f0\", \"\\u5b87\\u5b99\", \"\\u6d4b\\u8bd5\", \"\\u76f4\\u64ad\", \"\\u4efb\\u52a1\", \"\\u7535\\u8111\", \"\\u4ff1\\u4e50\\u90e8\", \"\\u7cfb\\u7edf\", \"\\u6b66\\u5668\", \"\\u7f51\\u7edc\", \"\\u661f\\u9645\\u4e89\\u9738\", \"\\u51a0\\u519b\", \"\\u5b98\\u65b9\", \"\\u6570\\u5b57\", \"\\u4e16\\u754c\", \"\\u884c\\u4e1a\", \"\\u5168\\u7403\", \"\\u8fd0\\u52a8\", \"\\u516c\\u53f8\", \"\\u53d1\\u5c55\", \"\\u56fd\\u9645\", \"\\u6d3b\\u52a8\", \"\\u5a31\\u4e50\", \"\\u9879\\u76ee\", \"\\u670d\\u52a1\"], \"Freq\": [1759.0, 944.0, 678.0, 965.0, 503.0, 800.0, 494.0, 397.0, 382.0, 517.0, 343.0, 479.0, 700.0, 446.0, 216.0, 236.0, 296.0, 226.0, 286.0, 191.0, 446.0, 268.0, 245.0, 300.0, 666.0, 202.0, 534.0, 253.0, 162.0, 224.0, 86.25927632072738, 70.4175162758005, 44.6763784595594, 42.69622966246494, 41.70594208183988, 29.825563719545325, 29.82444507682758, 68.91623841293638, 24.875044389482113, 19.925062471722317, 242.7461855114534, 17.94484537310706, 17.94367825590342, 44.6457931915844, 31.54544969959708, 85.69735142176728, 32.23878115860917, 23.861293366004176, 220.83046149625065, 25.614945221800482, 27.401518460646674, 37.40487858581515, 108.58249532678734, 26.8493683602894, 16.95486946943189, 402.71971537676325, 16.929562819795102, 34.64647127612329, 79.6433941354301, 91.75370171307213, 238.35470203611337, 59.46604524644237, 379.255474445599, 96.12011806236688, 93.66703210450294, 145.82670782648194, 52.15900759080436, 100.83663596763968, 186.5067507491558, 55.638593044063875, 93.70121289959835, 114.94060278811416, 347.6089801299218, 182.84827941559857, 55.13101380068986, 56.042742067937056, 254.30066643718772, 273.7270368899831, 90.94484258293681, 107.0293198644915, 129.25107846704037, 220.8602234746945, 95.18481099603532, 90.45301719233913, 89.10255660307521, 77.82813290257374, 82.5900535475552, 86.73695642985882, 81.89008985238132, 179.38349159926872, 163.53733215870295, 98.17165164424087, 85.2968741049208, 82.32563113752491, 77.37373270026326, 168.45859997017106, 71.43148100211984, 64.4987278462887, 281.3143717965986, 43.70059706756609, 40.729563482348404, 32.80636654953343, 31.816065492906528, 31.81590982682553, 30.825602802390478, 29.835140724486763, 28.844840948521668, 55.58006730580717, 119.60561623309906, 22.902509747185935, 21.912063107969878, 21.91181250461932, 20.9215738864991, 20.921444527222892, 44.667528595681745, 19.93111097685609, 42.67009625383956, 17.95048147640345, 99.89779967344255, 210.901889412038, 57.22168689429996, 35.752989359715436, 72.69949947694573, 50.61495162747288, 190.58391938211645, 121.9237821313806, 94.49711785268819, 482.1726582613064, 68.00601952833726, 161.17253873369862, 152.9093902563698, 105.7557826371467, 185.30454148513707, 89.889932450866, 211.38656571376617, 178.80438330794598, 137.358285152725, 96.66477097994365, 99.85957314126806, 73.74988361183368, 149.7170556695073, 180.83181721505264, 165.49499885005335, 123.04528741742867, 114.14199357902349, 92.14490874023699, 84.28407218543947, 128.05912581519593, 122.10877720350456, 103.26557193887933, 96.32267806913609, 78.47177890001588, 61.61160465095599, 46.73604886350972, 291.0397867964556, 45.74430163762678, 42.76882058652503, 38.80207258545527, 35.82683619709138, 34.834697918545224, 144.9195127929509, 30.868105051850222, 30.86810204296627, 29.876360324853643, 26.901114241884102, 24.917625148141337, 24.917617707698568, 54.584618389660456, 22.934133862325236, 74.49907794084484, 21.942384025996308, 20.95053241494659, 19.95889707679623, 19.95873260311117, 18.967147866914473, 18.96714375403128, 17.975402544055715, 1655.5386374743355, 180.0187497144736, 202.42109789671005, 174.9818500390661, 103.66934396480379, 708.102911058828, 842.2217413585389, 416.3020364908009, 66.30612378900123, 42.768001234420026, 59.01046242688555, 203.26282025361505, 256.866285775977, 56.544767196920446, 119.53493340606747, 71.0480954358851, 144.6302067691418, 56.759955892644854, 149.72723133847978, 130.31874137676857, 180.21846643497292, 124.83129739177274, 147.08369754800188, 60.271399955757815, 66.28650943262735, 78.89794057966672, 66.5809436652435, 342.5382158527159, 177.7077620113533, 939.804913273613, 160.0469948425545, 141.4054566079574, 131.59456181645405, 127.67003521526534, 112.95274628673198, 109.02816539496531, 98.23602056728998, 79.59448203545264, 75.6699362200294, 70.764269361512, 63.895858720374015, 61.933787766040716, 60.95293287012237, 59.97146354070411, 51.140756662832324, 50.160214288620416, 49.17932848562445, 49.17932076427291, 48.197463513775375, 45.25457790521963, 43.29242856400159, 42.311165798094926, 192.1211533801421, 39.36785711403918, 39.367422072916575, 38.38685859429832, 38.386225784140095, 102.80692751593452, 124.43069478541912, 59.95766228636448, 56.96434800367879, 58.79578172798151, 64.13951524765656, 66.82349919233896, 71.21887818299813, 67.78438978838426, 213.00238650860715, 56.83039808965827, 126.06276134152323, 80.79525688542658, 201.15667863018248, 105.5244449607639, 123.87571239818791, 116.05680858490277, 103.89837594429297, 88.39388329579752, 67.30455927705117, 65.46242327907164, 111.40319158044241, 25.72707578765862, 25.72696731754068, 63.806087732695325, 23.757203820724452, 49.35109048769359, 21.788015772005107, 20.80324991780955, 20.803055092178194, 20.80144076872502, 18.83354802099271, 18.833304059832642, 31.591526106623938, 25.72054873918204, 42.15396838352968, 67.5419688947801, 47.9343122430776, 102.61998513674926, 16.864081331611928, 54.11847170093422, 28.2229524714778, 30.705847643117053, 15.723353827018425, 16.512858003051356, 16.985618176645602, 19.393923391043348, 33.56121290507085, 45.00670599662648, 18.935709486838565, 21.361345080068254, 27.071138758432575, 169.95556139975977, 393.92214174674206, 36.55957913072923, 89.48050862955375, 79.83123317392544, 180.87057503962382, 209.36013033855406, 98.45857592940705, 125.34993000015577, 76.50885124134498, 37.67922434431411, 119.93665700229302, 104.67637791911615, 112.22948688307297, 105.40049685345474, 86.34610957928345, 127.6855432479658, 195.9077349676857, 41.7777788104195, 55.612572700187414, 126.32086118568076, 45.238933423722216, 128.7576790079322, 58.84789220295044, 79.80148802262752, 70.5365495052102, 76.68641936519461, 85.01598963270351, 81.52481000238728, 61.18774587429403, 64.34502417251294, 59.042488795165, 493.77172525013907, 397.0168735618818, 381.2201279478823, 117.61170565222814, 116.6240588523865, 96.87838256148459, 85.03085830953162, 79.10684819960866, 68.24682617205436, 68.24650935524109, 67.25925179005728, 54.424679234440305, 44.551730579283884, 33.69144907077511, 33.691439609105075, 32.703445606224236, 31.71688490226207, 29.74193953022111, 63.29656384558933, 27.76767782737954, 27.766270013399225, 54.424084833474986, 22.831090333171137, 36.40750072020044, 224.75925300128324, 21.557415274271182, 27.709635144032823, 26.77375037793881, 241.07472847726837, 47.79671988520583, 137.30216923105624, 96.72775528301545, 43.95325911288884, 47.44691704557715, 136.79406090601464, 48.527213243271824, 61.32279393205778, 139.25127742262313, 57.49808561681565, 75.11853054402971, 49.939142463310986, 91.99855474144279, 66.82149540979759, 118.67555847552336, 145.95661310848857, 87.0320341034421, 70.66640038138155, 73.83258334331441, 97.09842115407776, 62.56216660764048, 62.53693918042356, 677.6160903940076, 235.473208952216, 225.62584348109073, 161.61838275426385, 89.73328043281785, 74.96234599470272, 60.19148315253062, 58.22204407012891, 53.298242173599405, 48.37406165329014, 47.39003500221089, 37.54258647308105, 36.5578679048971, 34.58850948801607, 32.61908644967241, 31.6343190557367, 31.634295099959097, 30.64956821896671, 29.664878075124474, 26.71069296965564, 26.70986030832224, 24.741165197070035, 22.77169454258656, 21.786993928537427, 20.802371276289424, 20.802323335700915, 19.817515990939565, 19.81705909268894, 17.84420217103833, 16.862724004387, 29.566874196198874, 69.13877011259984, 131.6065529543471, 172.51523569098728, 93.91246237386184, 29.36539477853822, 32.584039211601606, 55.05445816699394, 74.73147968511944, 30.599677306817973, 41.98271500990529, 81.4336044049496, 36.98435958868093, 36.53173205496423, 77.48578213150519, 48.47067428909563, 51.257795464761266, 65.87595884433804, 56.13217227672304, 46.523933029251744, 54.98058430579253, 37.394792815030925, 39.39772168119713, 215.45736119077216, 190.87563935060246, 495.02692422278767, 47.31908657485503, 41.41967821968922, 138.81565551510258, 81.92190456571245, 104.8913900386746, 28.63618519659335, 43.82085720916608, 29.780003372743984, 36.93132226171625, 38.163587578163686, 18.29903584266717, 29.85379284824884, 14.200970332267408, 55.280282374802624, 76.76603102688442, 15.602083238879235, 23.102217231463662, 64.35473513403392, 13.208108492283678, 22.399509840325276, 32.26700378405921, 60.9246799927711, 23.32604162590835, 60.3465737381571, 57.18297031104937, 12.690905641764925, 88.00176732519357, 40.261663660826386, 69.19956716333895, 25.969741464431962, 37.95002019271756, 87.0627883542748, 58.01794642390789, 58.172017716220225, 34.81356605174508, 103.50079808867783, 74.6686820080926, 49.08846557853224, 47.378163917302466, 37.042902607986946, 43.47878791785006, 37.2184012156463], \"Total\": [1759.0, 944.0, 678.0, 965.0, 503.0, 800.0, 494.0, 397.0, 382.0, 517.0, 343.0, 479.0, 700.0, 446.0, 216.0, 236.0, 296.0, 226.0, 286.0, 191.0, 446.0, 268.0, 245.0, 300.0, 666.0, 202.0, 534.0, 253.0, 162.0, 224.0, 87.12245439245417, 71.28138990109383, 45.539664282029996, 43.55953167528994, 42.56946389794832, 30.68866724156295, 30.688666700825152, 71.28393360414395, 25.738334831450768, 20.78800378265837, 253.46380743956615, 18.80787101880247, 18.80787080264171, 47.52320911070132, 33.65219232137045, 92.04320630053527, 34.64059227907716, 25.729188197272027, 238.5648802277463, 27.714996124456817, 29.690946302265314, 40.573380619764855, 118.82045904137256, 29.701960952928324, 18.79893945227133, 446.5540854579196, 18.809593467866144, 38.61019659099299, 89.11717286950551, 102.92206235917011, 271.29277718058603, 67.32337332441207, 446.56747935845664, 111.81007096944776, 108.89885885030206, 184.21252745354366, 60.35132576999622, 127.568740825383, 261.13696711990616, 67.32058804606089, 124.53759153519958, 164.3380855350285, 650.1072976702958, 297.4938383228799, 67.31555511794379, 69.32229191517561, 534.0840147056882, 666.9894037541407, 142.50967113934766, 203.69674599766162, 289.6087899727444, 804.2649870177996, 180.82371445328332, 186.1040257893181, 182.62543332334354, 140.32100632391806, 203.43112414853377, 405.4589847930329, 700.2169148147794, 180.24642474730342, 164.40025901062006, 99.03482447988189, 86.15981584053611, 83.18865982993698, 78.23673299227659, 170.34397202251876, 72.2944207576728, 65.36172326954515, 286.2232096426549, 44.56363025370251, 41.59247480589331, 33.66939182443709, 32.67900649336001, 32.67900555613646, 31.688621207045195, 30.6982359428954, 29.70785050143282, 57.43148015484919, 123.7756404994686, 23.765538197210706, 22.775152357597598, 22.77515104261173, 21.784766967147167, 21.784765888441072, 46.54579441664461, 20.79438057101079, 44.56329889944522, 18.813611501738773, 104.97577974945801, 224.83169873917186, 60.40627546556243, 37.6323280862487, 78.24030578157101, 54.45298859461041, 218.9091367885349, 141.51645227155655, 108.84102972287417, 700.2169148147794, 78.19956060860517, 219.5247616457819, 210.76449086348816, 136.65979030050312, 272.2286431861067, 116.73603256083369, 401.1626322760619, 326.10079705680135, 237.169399016479, 142.57770714066876, 157.425062504191, 97.03284206799519, 369.56795850312164, 604.3198523669946, 534.0840147056882, 517.7076361110139, 650.1072976702958, 245.98235689797596, 176.03410272491692, 128.9219673776273, 122.97148890017218, 104.12830627681431, 97.18607901423772, 79.33464412211059, 62.47494992488936, 47.59875854993868, 296.49439380980976, 46.60701209494066, 43.63177229170578, 39.664786920337725, 36.6895475712014, 35.697798428614114, 148.72506696063195, 31.730815317105975, 31.730815301575248, 30.739068865378325, 27.76382949219062, 25.780336578745395, 25.780336565398283, 56.52265180178212, 23.796843697852196, 77.34563787504813, 22.805097246224292, 21.81335061252976, 20.821604352219136, 20.82160407358345, 19.829857890280657, 19.829857882533673, 18.83811143871482, 1759.1191767988937, 189.40403526606042, 215.11955986746923, 189.35617718316874, 111.05945496962518, 800.7701150375647, 965.3241106900421, 479.6074914298624, 71.388215807875, 45.60636283566622, 65.4425405881936, 264.2657483520276, 374.12908580651566, 65.43182380044121, 168.44077441986292, 87.22514724163572, 232.75131276124165, 67.4170675799258, 267.2913008578363, 269.9902499478168, 804.2649870177996, 371.9737679377874, 604.3198523669946, 89.02610706150622, 164.46606534055698, 650.1072976702958, 666.9894037541407, 343.40239431559564, 178.5719051263882, 944.8464990796001, 160.91149770182582, 142.26995290948278, 132.45861308951208, 128.5340776013183, 113.81707031788613, 109.89253517212815, 99.10006169185071, 80.4585182500836, 76.53398286495313, 71.62831353426961, 64.76037876343155, 62.79811020362619, 61.81697487866588, 60.8358423066825, 52.005639698876905, 51.024503115081735, 50.04336851887765, 50.043368556058105, 49.06224223173449, 46.11883359376522, 44.15656582930447, 43.17543300474042, 196.2393620938873, 40.23203067358334, 40.23203391549754, 39.25089600043799, 39.25089770989875, 105.98242869107979, 129.53744213449832, 61.82067492419615, 58.88308803096312, 60.84654264541791, 66.72894746969008, 69.6732958371173, 74.5771171232956, 71.63923140420626, 300.7750570182721, 59.85939531041297, 181.85823223429853, 105.077902780853, 611.6381990428706, 185.9301908126573, 371.9737679377874, 604.3198523669946, 804.2649870177996, 405.4589847930329, 124.99602020417954, 213.0600061647142, 112.266966091746, 26.590990348065905, 26.590991572630852, 65.9821737292151, 24.621428865357938, 51.217563826623824, 22.651864744691352, 21.66708338879013, 21.66708450602079, 21.667096058853517, 19.697522249276748, 19.6975196492769, 33.48287326505539, 27.574243952378996, 45.301713750549766, 72.8591601172154, 52.20398438550856, 113.29224875170117, 18.718342920107496, 60.102528186821175, 31.528713293032656, 34.464771001978036, 17.727897215424186, 18.712669836594376, 19.69742280311983, 22.657981794360328, 39.417717062149876, 53.179695175352016, 22.65171298247876, 25.60603142484144, 32.502574495042836, 214.79907174256425, 517.7076361110139, 44.316685783866404, 118.21429539184199, 106.41156927767555, 264.2892925928857, 336.28516128834934, 143.9533814600361, 224.95905337602218, 122.14570013973994, 48.28944565743681, 231.5740777695333, 194.32511733248822, 215.94529044259073, 211.06394983834093, 159.75004020289745, 289.7696344023972, 611.6381990428706, 57.17557979578317, 92.49366730510101, 401.1626322760619, 67.99836321077719, 604.3198523669946, 120.30656680154111, 245.0764582489602, 237.169399016479, 315.65467773481345, 804.2649870177996, 965.3241106900421, 189.16647350478277, 800.7701150375647, 326.10079705680135, 494.6353579237323, 397.8802157526112, 382.0834580677363, 118.47506129028835, 117.48776395974978, 97.74181718898915, 85.89424800043362, 79.97046367901599, 69.11019357820008, 69.1101930288303, 68.12289635704302, 55.28802988110103, 45.4150567658285, 34.55478531649194, 34.55478586466592, 33.56748663017564, 32.580190753417824, 30.605597352575593, 65.16551447513206, 28.631001170008325, 28.631001813567543, 56.26916595483282, 23.694514493993157, 38.4962765146688, 245.83280925148824, 23.698086875863343, 30.61475531761781, 29.627223485896966, 268.4909281001202, 53.332531983111714, 163.88077395907837, 114.48954930182, 50.3169895651423, 56.2256031223313, 208.30614686146885, 58.22687256009601, 79.85944016979923, 247.52836944400013, 74.9988774662832, 121.15318660443158, 71.03310175367427, 231.76525587123365, 126.9881928135015, 405.4589847930329, 666.9894037541407, 300.7750570182721, 167.4584222441129, 267.2913008578363, 804.2649870177996, 159.75004020289745, 369.56795850312164, 678.4799722348796, 236.3368175000555, 226.4895311957853, 162.4821704795679, 90.59698054395795, 75.82605109640258, 61.05512169253749, 59.08566441139107, 54.162021116622284, 49.238378191444156, 48.25364951279015, 38.40636320799936, 37.421634633312394, 35.452177310351715, 33.482720070154514, 32.49799144108484, 32.4979914684565, 31.51326284061613, 30.528534200246224, 27.574348335042213, 27.57434708231506, 25.60489087764615, 23.635433779168427, 22.65070517318923, 21.665976531451875, 21.665976594065217, 20.68124794265205, 20.681248717981426, 18.711780396361895, 17.72706235424638, 31.51332147765045, 76.82730495358089, 151.7457470981271, 202.86583173345215, 109.31829810865113, 31.520221911475694, 35.454372563912294, 64.98273854970311, 100.45553966126097, 33.48798794879571, 53.17784763266216, 142.7816707539281, 45.277609927230394, 45.35579203813415, 172.6968646933029, 75.87786469836114, 188.3421612075859, 650.1072976702958, 371.357946664182, 167.4584222441129, 666.9894037541407, 64.96696317109718, 369.56795850312164, 216.32128706840956, 191.73971071038775, 503.48018384613533, 48.18330364240393, 42.28372418931712, 146.5201565622345, 86.55817494116621, 114.04394353712232, 31.484798667997097, 49.18347165947755, 35.43379731877012, 47.19335185281734, 50.22001199726094, 24.62250088949209, 41.310074699878015, 20.66056569170022, 82.69897982405249, 115.14399582727964, 23.6291480756359, 35.41800427873979, 99.57921883007846, 20.699592506951486, 35.45068256215075, 51.18444959412223, 97.42615925792, 39.35725594671255, 102.22386890903473, 100.4720972211677, 22.64155814758975, 158.59828344361586, 73.67749972485214, 153.31003756657935, 47.17042145985944, 86.69631277967328, 315.65467773481345, 180.82371445328332, 182.62543332334354, 80.65716419866459, 666.9894037541407, 534.0840147056882, 369.56795850312164, 326.10079705680135, 142.7816707539281, 700.2169148147794, 203.69674599766162], \"Category\": [\"Default\", \"Default\", \"Default\", \"Default\", \"Default\", \"Default\", \"Default\", \"Default\", \"Default\", \"Default\", \"Default\", \"Default\", \"Default\", \"Default\", \"Default\", \"Default\", \"Default\", \"Default\", \"Default\", \"Default\", \"Default\", \"Default\", \"Default\", \"Default\", \"Default\", \"Default\", \"Default\", \"Default\", \"Default\", \"Default\", \"Topic1\", \"Topic1\", \"Topic1\", \"Topic1\", \"Topic1\", \"Topic1\", \"Topic1\", \"Topic1\", \"Topic1\", \"Topic1\", \"Topic1\", \"Topic1\", \"Topic1\", \"Topic1\", \"Topic1\", \"Topic1\", \"Topic1\", \"Topic1\", \"Topic1\", \"Topic1\", \"Topic1\", \"Topic1\", \"Topic1\", \"Topic1\", \"Topic1\", \"Topic1\", \"Topic1\", \"Topic1\", \"Topic1\", \"Topic1\", \"Topic1\", \"Topic1\", \"Topic1\", \"Topic1\", \"Topic1\", \"Topic1\", \"Topic1\", \"Topic1\", \"Topic1\", \"Topic1\", \"Topic1\", \"Topic1\", \"Topic1\", \"Topic1\", \"Topic1\", \"Topic1\", \"Topic1\", \"Topic1\", \"Topic1\", \"Topic1\", \"Topic1\", \"Topic1\", \"Topic1\", \"Topic1\", \"Topic1\", \"Topic1\", \"Topic1\", \"Topic1\", \"Topic1\", \"Topic2\", \"Topic2\", \"Topic2\", \"Topic2\", \"Topic2\", \"Topic2\", \"Topic2\", \"Topic2\", \"Topic2\", \"Topic2\", \"Topic2\", \"Topic2\", \"Topic2\", \"Topic2\", \"Topic2\", \"Topic2\", \"Topic2\", \"Topic2\", \"Topic2\", \"Topic2\", \"Topic2\", \"Topic2\", \"Topic2\", \"Topic2\", \"Topic2\", \"Topic2\", \"Topic2\", \"Topic2\", \"Topic2\", \"Topic2\", \"Topic2\", \"Topic2\", \"Topic2\", \"Topic2\", \"Topic2\", \"Topic2\", \"Topic2\", \"Topic2\", \"Topic2\", \"Topic2\", \"Topic2\", \"Topic2\", \"Topic2\", \"Topic2\", \"Topic2\", \"Topic2\", \"Topic2\", \"Topic2\", \"Topic2\", \"Topic2\", \"Topic2\", \"Topic2\", \"Topic2\", \"Topic2\", \"Topic2\", \"Topic2\", \"Topic2\", \"Topic2\", \"Topic3\", \"Topic3\", \"Topic3\", \"Topic3\", \"Topic3\", \"Topic3\", \"Topic3\", \"Topic3\", \"Topic3\", \"Topic3\", \"Topic3\", \"Topic3\", \"Topic3\", \"Topic3\", \"Topic3\", \"Topic3\", \"Topic3\", \"Topic3\", \"Topic3\", \"Topic3\", \"Topic3\", \"Topic3\", \"Topic3\", \"Topic3\", \"Topic3\", \"Topic3\", \"Topic3\", \"Topic3\", \"Topic3\", \"Topic3\", \"Topic3\", \"Topic3\", \"Topic3\", \"Topic3\", \"Topic3\", \"Topic3\", \"Topic3\", \"Topic3\", \"Topic3\", \"Topic3\", \"Topic3\", \"Topic3\", \"Topic3\", \"Topic3\", \"Topic3\", \"Topic3\", \"Topic3\", \"Topic3\", \"Topic3\", \"Topic3\", \"Topic3\", \"Topic3\", \"Topic3\", \"Topic3\", \"Topic3\", \"Topic3\", \"Topic3\", \"Topic4\", \"Topic4\", \"Topic4\", \"Topic4\", \"Topic4\", \"Topic4\", \"Topic4\", \"Topic4\", \"Topic4\", \"Topic4\", \"Topic4\", \"Topic4\", \"Topic4\", \"Topic4\", \"Topic4\", \"Topic4\", \"Topic4\", \"Topic4\", \"Topic4\", \"Topic4\", \"Topic4\", \"Topic4\", \"Topic4\", \"Topic4\", \"Topic4\", \"Topic4\", \"Topic4\", \"Topic4\", \"Topic4\", \"Topic4\", \"Topic4\", \"Topic4\", \"Topic4\", \"Topic4\", \"Topic4\", \"Topic4\", \"Topic4\", \"Topic4\", \"Topic4\", \"Topic4\", \"Topic4\", \"Topic4\", \"Topic4\", \"Topic4\", \"Topic4\", \"Topic4\", \"Topic4\", \"Topic4\", \"Topic4\", \"Topic4\", \"Topic4\", \"Topic5\", \"Topic5\", \"Topic5\", \"Topic5\", \"Topic5\", \"Topic5\", \"Topic5\", \"Topic5\", \"Topic5\", \"Topic5\", \"Topic5\", \"Topic5\", \"Topic5\", \"Topic5\", \"Topic5\", \"Topic5\", \"Topic5\", \"Topic5\", \"Topic5\", \"Topic5\", \"Topic5\", \"Topic5\", \"Topic5\", \"Topic5\", \"Topic5\", \"Topic5\", \"Topic5\", \"Topic5\", \"Topic5\", \"Topic5\", \"Topic5\", \"Topic5\", \"Topic5\", \"Topic5\", \"Topic5\", \"Topic5\", \"Topic5\", \"Topic5\", \"Topic5\", \"Topic5\", \"Topic5\", \"Topic5\", \"Topic5\", \"Topic5\", \"Topic5\", \"Topic5\", \"Topic5\", \"Topic5\", \"Topic5\", \"Topic5\", \"Topic5\", \"Topic5\", \"Topic5\", \"Topic5\", \"Topic5\", \"Topic5\", \"Topic5\", \"Topic5\", \"Topic5\", \"Topic5\", \"Topic5\", \"Topic5\", \"Topic5\", \"Topic6\", \"Topic6\", \"Topic6\", \"Topic6\", \"Topic6\", \"Topic6\", \"Topic6\", \"Topic6\", \"Topic6\", \"Topic6\", \"Topic6\", \"Topic6\", \"Topic6\", \"Topic6\", \"Topic6\", \"Topic6\", \"Topic6\", \"Topic6\", \"Topic6\", \"Topic6\", \"Topic6\", \"Topic6\", \"Topic6\", \"Topic6\", \"Topic6\", \"Topic6\", \"Topic6\", \"Topic6\", \"Topic6\", \"Topic6\", \"Topic6\", \"Topic6\", \"Topic6\", \"Topic6\", \"Topic6\", \"Topic6\", \"Topic6\", \"Topic6\", \"Topic6\", \"Topic6\", \"Topic6\", \"Topic6\", \"Topic6\", \"Topic6\", \"Topic6\", \"Topic6\", \"Topic6\", \"Topic6\", \"Topic6\", \"Topic6\", \"Topic6\", \"Topic7\", \"Topic7\", \"Topic7\", \"Topic7\", \"Topic7\", \"Topic7\", \"Topic7\", \"Topic7\", \"Topic7\", \"Topic7\", \"Topic7\", \"Topic7\", \"Topic7\", \"Topic7\", \"Topic7\", \"Topic7\", \"Topic7\", \"Topic7\", \"Topic7\", \"Topic7\", \"Topic7\", \"Topic7\", \"Topic7\", \"Topic7\", \"Topic7\", \"Topic7\", \"Topic7\", \"Topic7\", \"Topic7\", \"Topic7\", \"Topic7\", \"Topic7\", \"Topic7\", \"Topic7\", \"Topic7\", \"Topic7\", \"Topic7\", \"Topic7\", \"Topic7\", \"Topic7\", \"Topic7\", \"Topic7\", \"Topic7\", \"Topic7\", \"Topic7\", \"Topic7\", \"Topic7\", \"Topic7\", \"Topic7\", \"Topic7\", \"Topic7\", \"Topic7\", \"Topic7\", \"Topic8\", \"Topic8\", \"Topic8\", \"Topic8\", \"Topic8\", \"Topic8\", \"Topic8\", \"Topic8\", \"Topic8\", \"Topic8\", \"Topic8\", \"Topic8\", \"Topic8\", \"Topic8\", \"Topic8\", \"Topic8\", \"Topic8\", \"Topic8\", \"Topic8\", \"Topic8\", \"Topic8\", \"Topic8\", \"Topic8\", \"Topic8\", \"Topic8\", \"Topic8\", \"Topic8\", \"Topic8\", \"Topic8\", \"Topic8\", \"Topic8\", \"Topic8\", \"Topic8\", \"Topic8\", \"Topic8\", \"Topic8\", \"Topic8\", \"Topic8\", \"Topic8\", \"Topic8\", \"Topic8\", \"Topic8\", \"Topic8\", \"Topic8\", \"Topic8\"], \"logprob\": [30.0, 29.0, 28.0, 27.0, 26.0, 25.0, 24.0, 23.0, 22.0, 21.0, 20.0, 19.0, 18.0, 17.0, 16.0, 15.0, 14.0, 13.0, 12.0, 11.0, 10.0, 9.0, 8.0, 7.0, 6.0, 5.0, 4.0, 3.0, 2.0, 1.0, -5.0457, -5.2487, -5.7037, -5.749, -5.7725, -6.1077, -6.1078, -5.2702, -6.2892, -6.5111, -4.0111, -6.6158, -6.6159, -5.7043, -6.0517, -5.0523, -6.0299, -6.3308, -4.1057, -6.2599, -6.1925, -5.8813, -4.8156, -6.2129, -6.6726, -3.5049, -6.674, -5.9579, -5.1255, -4.984, -4.0293, -5.4177, -3.5649, -4.9375, -4.9634, -4.5207, -5.5488, -4.8896, -4.2746, -5.4842, -4.963, -4.7587, -3.652, -4.2945, -5.4934, -5.477, -3.9646, -3.891, -4.9929, -4.83, -4.6414, -4.1056, -4.9473, -4.9983, -5.0133, -5.1486, -5.0892, -5.0402, -5.0977, -4.1312, -4.2237, -4.734, -4.8746, -4.9101, -4.9721, -4.1941, -5.052, -5.1541, -3.6813, -5.5434, -5.6138, -5.8301, -5.8608, -5.8608, -5.8924, -5.9251, -5.9588, -5.3029, -4.5365, -6.1895, -6.2337, -6.2337, -6.28, -6.28, -5.5215, -6.3285, -5.5673, -6.4331, -4.7166, -3.9694, -5.2738, -5.7441, -5.0344, -5.3965, -4.0707, -4.5174, -4.7722, -3.1424, -5.1012, -4.2383, -4.2909, -4.6596, -4.0987, -4.8222, -3.9671, -4.1345, -4.3982, -4.7495, -4.717, -5.0201, -4.312, -4.1232, -4.2118, -4.5082, -4.5833, -4.7974, -4.8866, -4.466, -4.5136, -4.6812, -4.7508, -4.9557, -5.1976, -5.474, -3.645, -5.4954, -5.5627, -5.66, -5.7398, -5.7679, -4.3423, -5.8888, -5.8888, -5.9214, -6.0263, -6.1029, -6.1029, -5.3187, -6.1859, -5.0077, -6.2301, -6.2763, -6.3248, -6.3248, -6.3758, -6.3758, -6.4295, -1.9066, -4.1254, -4.0081, -4.1538, -4.6773, -2.7559, -2.5824, -3.2871, -5.1242, -5.5627, -5.2408, -4.004, -3.7699, -5.2835, -4.5349, -5.0551, -4.3443, -5.2797, -4.3097, -4.4485, -4.1243, -4.4915, -4.3275, -5.2196, -5.1245, -4.9503, -5.1201, -3.4572, -4.1134, -2.4479, -4.2181, -4.3419, -4.4138, -4.4441, -4.5666, -4.602, -4.7062, -4.9166, -4.9672, -5.0342, -5.1363, -5.1675, -5.1835, -5.1997, -5.359, -5.3783, -5.3981, -5.3981, -5.4183, -5.4813, -5.5256, -5.5485, -4.0354, -5.6206, -5.6206, -5.6458, -5.6459, -4.6607, -4.4698, -5.1999, -5.2511, -5.2195, -5.1325, -5.0915, -5.0278, -5.0772, -3.9323, -5.2535, -4.4568, -4.9016, -3.9895, -4.6346, -4.4743, -4.5395, -4.6501, -4.8118, -5.0843, -5.1121, -4.4379, -5.9035, -5.9035, -4.9952, -5.9831, -5.2521, -6.0697, -6.1159, -6.1159, -6.116, -6.2154, -6.2154, -5.6981, -5.9037, -5.4097, -4.9383, -5.2812, -4.52, -6.3258, -5.1599, -5.8109, -5.7266, -6.3959, -6.3469, -6.3187, -6.1861, -5.6377, -5.3442, -6.21, -6.0895, -5.8526, -4.0155, -3.1749, -5.5521, -4.657, -4.7711, -3.9533, -3.807, -4.5614, -4.3199, -4.8136, -5.5219, -4.3641, -4.5002, -4.4305, -4.4933, -4.6927, -4.3015, -3.8734, -5.4187, -5.1326, -4.3122, -5.3391, -4.2931, -5.0761, -4.7715, -4.8949, -4.8113, -4.7082, -4.7501, -5.0371, -4.9868, -5.0728, -2.8622, -3.0803, -3.1209, -4.2968, -4.3053, -4.4908, -4.6212, -4.6934, -4.8411, -4.8411, -4.8557, -5.0674, -5.2676, -5.547, -5.547, -5.5767, -5.6074, -5.6717, -4.9164, -5.7404, -5.7404, -5.0674, -5.9361, -5.4695, -3.6492, -5.9935, -5.7424, -5.7768, -3.5791, -5.1973, -4.142, -4.4923, -5.2811, -5.2046, -4.1458, -5.1821, -4.9481, -4.1279, -5.0125, -4.7452, -5.1534, -4.5425, -4.8622, -4.2878, -4.0809, -4.598, -4.8063, -4.7624, -4.4885, -4.9281, -4.9285, -2.3697, -3.4266, -3.4694, -3.803, -4.3914, -4.5713, -4.7907, -4.824, -4.9123, -5.0093, -5.0298, -5.2628, -5.2893, -5.3447, -5.4033, -5.434, -5.434, -5.4656, -5.4983, -5.6032, -5.6032, -5.6798, -5.7627, -5.8069, -5.8532, -5.8532, -5.9017, -5.9017, -6.0066, -6.0631, -5.5016, -4.6521, -4.0084, -3.7378, -4.3459, -5.5084, -5.4044, -4.8799, -4.5743, -5.4673, -5.151, -4.4885, -5.2777, -5.2901, -4.5381, -5.0073, -4.9514, -4.7005, -4.8605, -5.0483, -4.8813, -5.2667, -5.2145, -3.1576, -3.2788, -2.3258, -4.6735, -4.8066, -3.5972, -4.1246, -3.8775, -5.1757, -4.7503, -5.1365, -4.9213, -4.8885, -5.6235, -5.1341, -5.8771, -4.518, -4.1896, -5.783, -5.3905, -4.366, -5.9495, -5.4213, -5.0563, -4.4207, -5.3808, -4.4303, -4.4841, -5.9895, -4.053, -4.835, -4.2934, -5.2734, -4.8941, -4.0638, -4.4696, -4.467, -4.9804, -3.8908, -4.2173, -4.6368, -4.6722, -4.9183, -4.7581, -4.9136], \"loglift\": [30.0, 29.0, 28.0, 27.0, 26.0, 25.0, 24.0, 23.0, 22.0, 21.0, 20.0, 19.0, 18.0, 17.0, 16.0, 15.0, 14.0, 13.0, 12.0, 11.0, 10.0, 9.0, 8.0, 7.0, 6.0, 5.0, 4.0, 3.0, 2.0, 1.0, 1.7379, 1.7357, 1.7287, 1.7279, 1.7274, 1.7194, 1.7193, 1.7141, 1.7138, 1.7055, 1.7047, 1.7009, 1.7008, 1.6854, 1.6832, 1.6764, 1.676, 1.6725, 1.6706, 1.6691, 1.6676, 1.6666, 1.6578, 1.6469, 1.6446, 1.6446, 1.6426, 1.6396, 1.6355, 1.633, 1.6184, 1.6238, 1.5845, 1.5967, 1.5972, 1.5142, 1.602, 1.5127, 1.4113, 1.5573, 1.4634, 1.3904, 1.1218, 1.2611, 1.5482, 1.5352, 1.0058, 0.8572, 1.2987, 1.1044, 0.9411, 0.4555, 1.1062, 1.0264, 1.0302, 1.1585, 0.8464, 0.2057, -0.3981, 1.9254, 1.925, 1.9215, 1.9202, 1.9198, 1.9191, 1.9191, 1.9182, 1.9169, 1.9129, 1.9107, 1.9093, 1.9043, 1.9035, 1.9035, 1.9026, 1.9017, 1.9008, 1.8975, 1.896, 1.8932, 1.8916, 1.8916, 1.8898, 1.8898, 1.889, 1.8878, 1.8868, 1.8833, 1.8807, 1.8663, 1.8761, 1.879, 1.8568, 1.8571, 1.7917, 1.7812, 1.7889, 1.5572, 1.7906, 1.6212, 1.6093, 1.6739, 1.5456, 1.6689, 1.2896, 1.3293, 1.3841, 1.5416, 1.4751, 1.6559, 1.0267, 0.7237, 0.7586, 0.4934, 0.1905, 0.9483, 1.1938, 1.9258, 1.9255, 1.9242, 1.9236, 1.9216, 1.9186, 1.9142, 1.9139, 1.9138, 1.9125, 1.9105, 1.9087, 1.908, 1.9066, 1.9049, 1.9049, 1.904, 1.9009, 1.8985, 1.8985, 1.8976, 1.8956, 1.895, 1.8939, 1.8921, 1.8902, 1.8902, 1.888, 1.888, 1.8856, 1.8718, 1.8817, 1.8717, 1.8536, 1.8636, 1.8095, 1.7961, 1.7909, 1.8586, 1.8682, 1.829, 1.67, 1.5565, 1.7865, 1.5895, 1.7274, 1.4567, 1.7604, 1.353, 1.2041, 0.4367, 0.8406, 0.5194, 1.5424, 1.0238, -0.1765, -0.3719, 1.9549, 1.9526, 1.9521, 1.952, 1.9513, 1.9509, 1.9507, 1.9498, 1.9495, 1.9487, 1.9466, 1.9461, 1.9453, 1.944, 1.9436, 1.9434, 1.9431, 1.9407, 1.9403, 1.94, 1.94, 1.9396, 1.9385, 1.9377, 1.9372, 1.9362, 1.9357, 1.9357, 1.9352, 1.9352, 1.927, 1.9172, 1.9268, 1.9243, 1.9231, 1.9179, 1.9157, 1.9114, 1.9021, 1.6124, 1.9055, 1.591, 1.6946, 0.8454, 1.391, 0.8579, 0.3074, -0.0891, 0.4342, 1.3384, 0.7773, 2.0922, 2.0669, 2.0669, 2.0664, 2.0642, 2.0628, 2.0611, 2.0593, 2.0593, 2.0592, 2.0551, 2.0551, 2.0418, 2.0304, 2.0279, 2.0242, 2.0146, 2.001, 1.9956, 1.9951, 1.9892, 1.9845, 1.98, 1.9749, 1.9518, 1.9444, 1.9391, 1.9331, 1.9208, 1.9187, 1.9171, 1.8658, 1.8267, 1.9075, 1.8215, 1.8126, 1.7207, 1.626, 1.7201, 1.5151, 1.6321, 1.8518, 1.442, 1.4813, 1.4455, 1.4056, 1.4847, 1.2804, 0.9615, 1.7862, 1.5912, 0.9444, 1.6924, 0.5538, 1.3849, 0.9779, 0.8873, 0.685, -0.1471, -0.3716, 0.9713, -0.4214, 0.391, 2.185, 2.1846, 2.1845, 2.1794, 2.1794, 2.1779, 2.1767, 2.1759, 2.1742, 2.1742, 2.174, 2.171, 2.1676, 2.1615, 2.1615, 2.1607, 2.1599, 2.1581, 2.1577, 2.1561, 2.1561, 2.1534, 2.1496, 2.131, 2.0971, 2.0921, 2.0871, 2.0855, 2.079, 2.0772, 2.0098, 2.0182, 2.0515, 2.017, 1.7662, 2.0045, 1.9226, 1.6115, 1.921, 1.7088, 1.8344, 1.2628, 1.5447, 0.9581, 0.6673, 0.9467, 1.324, 0.9002, 0.0726, 1.2493, 0.4102, 2.3615, 2.3591, 2.3589, 2.3574, 2.3532, 2.3513, 2.3485, 2.348, 2.3467, 2.345, 2.3447, 2.34, 2.3394, 2.3381, 2.3366, 2.3358, 2.3358, 2.335, 2.334, 2.3309, 2.3309, 2.3284, 2.3255, 2.3239, 2.3221, 2.3221, 2.3201, 2.3201, 2.3153, 2.3128, 2.299, 2.2573, 2.2204, 2.2007, 2.2108, 2.2919, 2.2783, 2.1969, 2.0669, 2.2726, 2.1264, 1.8012, 2.1604, 2.1464, 1.5613, 1.9146, 1.0614, 0.0734, 0.4733, 1.082, -0.133, 1.8104, 0.1241, 2.7166, 2.7161, 2.7037, 2.7025, 2.7, 2.6666, 2.6656, 2.637, 2.6258, 2.6052, 2.5468, 2.4754, 2.4461, 2.4238, 2.3958, 2.3457, 2.3178, 2.3152, 2.3055, 2.2933, 2.2841, 2.2713, 2.2615, 2.2592, 2.2512, 2.1975, 2.1935, 2.157, 2.1417, 2.1316, 2.1163, 1.9251, 2.1238, 1.8945, 1.4326, 1.5838, 1.5766, 1.8804, 0.8574, 0.7531, 0.7019, 0.7916, 1.3714, -0.0585, 1.0208]}, \"token.table\": {\"Topic\": [3, 4, 6, 4, 5, 1, 2, 3, 5, 6, 8, 1, 2, 3, 6, 1, 2, 3, 4, 5, 6, 7, 8, 2, 8, 1, 3, 8, 2, 3, 8, 3, 2, 1, 2, 4, 5, 3, 4, 6, 2, 5, 4, 7, 7, 6, 1, 2, 3, 4, 5, 7, 1, 5, 8, 1, 8, 1, 2, 3, 8, 1, 4, 5, 7, 8, 1, 4, 5, 7, 1, 2, 6, 5, 8, 2, 4, 5, 7, 2, 5, 6, 7, 1, 5, 7, 3, 1, 2, 3, 1, 2, 4, 6, 7, 8, 1, 2, 3, 1, 2, 4, 6, 7, 8, 4, 5, 7, 2, 3, 1, 2, 1, 4, 6, 2, 7, 8, 1, 1, 2, 4, 8, 1, 2, 3, 4, 7, 3, 1, 3, 5, 6, 8, 1, 2, 3, 6, 7, 8, 1, 2, 6, 1, 3, 5, 7, 1, 5, 6, 7, 8, 4, 4, 7, 8, 4, 7, 1, 3, 4, 5, 6, 7, 8, 2, 5, 6, 8, 6, 2, 5, 7, 8, 4, 7, 7, 7, 2, 3, 6, 2, 4, 7, 1, 2, 5, 8, 5, 8, 4, 2, 3, 1, 3, 6, 6, 7, 1, 3, 4, 5, 6, 3, 1, 2, 3, 4, 5, 7, 8, 1, 1, 2, 5, 6, 7, 8, 5, 5, 6, 2, 3, 5, 7, 1, 6, 3, 1, 8, 3, 4, 1, 3, 7, 7, 2, 5, 2, 1, 1, 3, 5, 6, 8, 1, 2, 3, 4, 6, 7, 8, 2, 3, 2, 1, 2, 3, 4, 5, 7, 2, 5, 7, 1, 2, 3, 3, 3, 3, 6, 1, 3, 1, 3, 5, 6, 5, 3, 5, 7, 4, 3, 5, 6, 7, 5, 7, 2, 3, 7, 1, 4, 8, 4, 5, 8, 6, 4, 8, 7, 5, 7, 5, 7, 5, 7, 7, 5, 7, 5, 7, 2, 5, 7, 8, 1, 2, 4, 5, 7, 8, 6, 5, 7, 4, 6, 1, 5, 6, 7, 6, 3, 6, 1, 2, 5, 6, 2, 8, 4, 7, 8, 1, 2, 3, 4, 6, 7, 4, 6, 1, 2, 6, 6, 2, 6, 4, 1, 4, 2, 1, 1, 2, 3, 4, 5, 6, 7, 5, 1, 6, 1, 2, 3, 6, 7, 8, 1, 5, 2, 3, 8, 4, 6, 4, 6, 2, 2, 3, 2, 1, 3, 5, 6, 2, 8, 7, 4, 2, 3, 5, 4, 7, 1, 2, 3, 4, 5, 6, 7, 7, 7, 7, 7, 5, 8, 2, 3, 4, 5, 6, 4, 2, 4, 1, 7, 1, 2, 3, 4, 5, 6, 7, 8, 2, 3, 4, 5, 6, 7, 1, 2, 3, 6, 7, 8, 2, 4, 6, 7, 8, 4, 4, 7, 4, 2, 2, 3, 2, 5, 8, 1, 3, 4, 5, 8, 4, 5, 4, 1, 2, 3, 7, 1, 3, 5, 6, 3, 1, 5, 3, 3, 1, 5, 1, 2, 3, 1, 3, 6, 3, 5, 7, 1, 4, 2, 5, 6, 1, 5, 7, 8, 1, 2, 3, 4, 6, 7, 8, 3, 4, 1, 2, 5, 7, 1, 3, 6, 7, 1, 2, 3, 4, 5, 7, 7, 3, 1, 2, 3, 4, 5, 6, 7, 8, 1, 5, 7, 1, 2, 3, 4, 5, 6, 7, 8, 8, 4, 8, 2, 5, 7, 3, 1, 2, 3, 4, 5, 7, 1, 2, 3, 6, 7, 8, 3, 4, 6, 7, 1, 2, 3, 4, 5, 6, 7, 1, 2, 3, 6, 1, 3, 5, 7, 2, 3, 5, 2, 2, 3, 2, 1, 2, 4, 7, 8, 3, 1, 4, 7, 8, 5, 6, 7, 4, 8, 6, 7, 6, 6, 3, 6, 3, 1, 2, 5, 6, 8, 4, 6, 8, 1, 2, 3, 8, 1, 2, 3, 7, 8, 4, 7, 5, 7, 6, 4, 8, 4, 4, 3, 5, 1, 6, 7, 8, 5, 7, 7, 5, 7, 8, 2, 4, 1, 2, 3, 4, 5, 6, 7, 8, 1, 2, 5, 6, 7, 8, 3, 2, 4, 5, 6, 8, 4, 4, 4, 8, 4, 1, 2, 3, 5, 7, 1, 2, 5, 6, 7, 8, 6, 1, 3, 8, 8, 7, 7, 7, 5, 7, 8, 7, 7, 6, 4, 2, 4, 5, 7, 8, 5, 3, 1, 2, 3, 5, 6, 6, 3, 6, 1, 2, 3, 5, 6, 2, 6, 7, 7, 5, 6, 5, 2, 1, 2, 4, 8, 6, 1, 7, 1, 2, 3, 4, 5, 7, 8, 3, 4, 7, 8, 1, 4, 6, 8, 4, 1, 2, 5, 6, 8, 4, 1, 2, 4, 5, 6, 7, 8, 1, 3, 6, 1, 3, 1, 3, 4, 5, 6, 7, 1, 7, 2, 3, 5, 4, 7, 1, 3, 5, 6, 8, 1, 3, 5, 8, 3, 8, 2, 2, 5, 2, 3, 5, 6, 1, 4, 6, 7, 8, 4, 1, 3, 1, 3, 1, 3, 1, 2, 3, 4, 5, 6, 2, 6, 7, 6, 1, 3, 8, 3, 5, 1, 4, 2, 5, 7, 1, 2, 6, 4, 5, 8, 1, 2, 4, 5, 7, 3, 1, 3, 4, 6, 7, 8, 4, 5, 6, 8, 1, 4, 5, 6, 7, 8, 2, 5, 6, 1, 2, 4, 8, 2, 5, 6, 7, 8, 1, 2, 1, 2, 3, 7, 3, 5, 6, 7, 6, 1, 2, 3, 4, 5, 6, 8, 2, 1, 2, 1, 3, 5, 1, 3, 2, 1, 1, 1, 3, 6, 6, 4, 6, 7, 4, 4, 6, 3, 7, 1, 2, 3, 6, 7, 4, 6, 3, 2, 4, 5, 7, 1, 8, 1, 2, 3, 4, 5, 6, 7, 1, 4, 5, 8, 1, 8, 1, 3, 3, 1, 3, 1, 2, 3, 4, 5, 6, 7, 8, 4, 8, 1, 3, 6, 3, 6, 7, 1, 2, 3, 6, 7, 2, 6, 7, 1, 2, 4, 6, 8, 3, 7, 1, 3, 6, 5, 2, 5, 7, 7, 1, 3, 2, 3, 4, 8, 3, 7], \"Freq\": [0.9928486401783897, 0.11924401781295303, 0.8744561306283222, 0.9705490933829396, 0.016175818223048994, 0.043205638122552986, 0.12481628790959752, 0.009601252916122887, 0.0336043852064301, 0.6576858247544177, 0.12961691436765896, 0.012506258979015774, 0.030697181130311443, 0.9413802213295509, 0.01591705688238371, 0.19641717475857334, 0.1900811368631355, 0.0126720757908757, 0.04752028421578387, 0.2439374589743572, 0.019008113686313548, 0.0126720757908757, 0.27561764845154646, 0.9750749910852102, 0.017412053412235895, 0.8585988647322487, 0.04471869087147128, 0.08943738174294256, 0.10698158164365272, 0.8711357362411721, 0.015283083091950388, 0.9832398716354414, 0.9820951500253162, 0.2764425906700446, 0.3740105638477075, 0.12602529868781448, 0.22359327186547728, 0.9759566931381339, 0.7081704251395429, 0.2892527088598133, 0.23758583304655886, 0.7610473026044243, 0.973807613713091, 0.9891059723609718, 0.9791709634828155, 0.9977877368168552, 0.16672064078371654, 0.00694669336598819, 0.0625202402938937, 0.041680160195929135, 0.6807759498668425, 0.041680160195929135, 0.10151056570801271, 0.7528700290010942, 0.13534742094401694, 0.7547921783394345, 0.240891120746628, 0.1328497029328131, 0.7259287338828715, 0.023723161238002336, 0.11861580619001168, 0.349929030963366, 0.030876090967355822, 0.5403315919287269, 0.01029203032245194, 0.07204421225716359, 0.15035959067804758, 0.07517979533902379, 0.7517979533902379, 0.018794948834755947, 0.8318406244711452, 0.14854296865556163, 0.014854296865556163, 0.9429088987862103, 0.03626572687639271, 0.9761729479082076, 0.12313950982949869, 0.29245633584505937, 0.5695202329614314, 0.03953722224427325, 0.1449698148956686, 0.1713279630585174, 0.632595555908372, 0.07061383358656188, 0.9091531074269843, 0.01765345839664047, 0.9831770327215897, 0.4742619691088662, 0.12160563310483748, 0.4012985892459637, 0.07184928620113856, 0.06158510245811877, 0.15396275614529692, 0.04105673497207918, 0.05132091871509897, 0.6261152083242075, 0.8772810042103528, 0.09952347526756103, 0.022116327837235786, 0.15488594313889245, 0.27691729227862594, 0.30507837284933365, 0.1830470237096002, 0.03754810742761029, 0.04224162085606158, 0.13251582867653847, 0.04417194289217949, 0.8171809435053206, 0.9617983056384845, 0.9804526200681669, 0.038104027515172154, 0.9526006878793039, 0.9871547821160955, 0.9718592154575637, 0.018871052727331337, 0.11202949884985487, 0.8698761087165202, 0.013179941041159398, 0.9570461208504232, 0.01956490222239315, 0.0391298044447863, 0.3521682400030767, 0.5869470666717946, 0.9775595585125229, 0.044930640370880036, 0.6739596055632006, 0.15725724129808014, 0.1123266009272001, 0.9605407759017585, 0.4873362837826808, 0.03832982007279512, 0.14236790312752473, 0.016427065745483624, 0.3175899377460167, 0.4108011288602109, 0.03298403224425051, 0.10045137092567202, 0.21889403216638978, 0.08246008061062629, 0.1559245160637297, 0.016554571396644034, 0.9436105696087098, 0.016554571396644034, 0.9713138073505608, 0.026032411278885826, 0.06508102819721456, 0.8981181891215609, 0.27429924132435035, 0.4904137950950506, 0.049872589331700065, 0.041560491109750054, 0.14961776799510018, 0.9930229311873738, 0.3717956169389502, 0.17611371328687114, 0.4500683783997818, 0.9492005800052096, 0.04187649617670042, 0.03742023951390999, 0.6869286825053478, 0.06949473052583284, 0.07484047902781998, 0.10691497003974285, 0.016037245505961428, 0.008018622752980714, 0.08464122335676619, 0.12696183503514927, 0.08464122335676619, 0.6771297868541295, 0.9839447615891523, 0.9975653383210655, 0.030777404040463256, 0.8463786111127395, 0.12310961616185302, 0.9693768707928457, 0.9763759634619558, 0.9785454624353805, 0.9894193780911096, 0.018750281728920355, 0.056250845186761066, 0.900013522988177, 0.02820526574535586, 0.02820526574535586, 0.9307737695967433, 0.06853068263932155, 0.7709701796923674, 0.05996434730940635, 0.10279602395898231, 0.9557124846091689, 0.02986601514403653, 0.9888994852972813, 0.872508122785688, 0.12790694993716892, 0.9469057507285815, 0.0420847000323814, 0.9767032776557424, 0.05972290730210692, 0.9257050631826572, 0.045870843123010874, 0.8673759426896601, 0.041700766475464425, 0.03544565150414476, 0.008340153295092885, 0.9605407887557603, 0.4755806071821284, 0.30894015820886295, 0.03370256271369414, 0.00187236459520523, 0.01310655216643661, 0.02621310433287322, 0.14042734464039225, 0.957046131849851, 0.3242676124980725, 0.08106690312451813, 0.05211443772290451, 0.017371479240968168, 0.44586796718484967, 0.0752764100441954, 0.9692115612982234, 0.2815588719376945, 0.7038971798442364, 0.08283383554194892, 0.04141691777097446, 0.7869214376485147, 0.08283383554194892, 0.04219749911620531, 0.9283449805565168, 0.9891642693792135, 0.9119279546051895, 0.049293402951631864, 0.9665147316186257, 0.9862606931211884, 0.8938802613471243, 0.0194321795945027, 0.0777287183780108, 0.9837127991724612, 0.09515136162131146, 0.8880793751322403, 0.985755240373209, 0.9620933404237816, 0.6151387908793728, 0.016807070789053902, 0.18151636452178216, 0.11764949552337733, 0.06386686899840484, 0.14611656329384917, 0.4058793424829144, 0.024352760548974863, 0.016235173699316575, 0.17046932384282404, 0.10552862904555774, 0.13258725187775203, 0.9384797659016131, 0.05782102823090507, 0.9677878871979194, 0.2693037122845724, 0.338669819994235, 0.024482155662233857, 0.016321437108155906, 0.32642874216311807, 0.024482155662233857, 0.9639763432709357, 0.8348999783162923, 0.15795404995173098, 0.9775595757372335, 0.956624312944243, 0.02657289758178453, 0.9697313269606905, 0.9920998850313927, 0.9428508946206092, 0.04385352998235392, 0.917350436779973, 0.07574453147724547, 0.07610790841260297, 0.025369302804200987, 0.8625562953428336, 0.025369302804200987, 0.9645883253513086, 0.13991987538340658, 0.7345793457628845, 0.12242989096048075, 0.9799213504780037, 0.007449041254958904, 0.08938849505950684, 0.8976094712225479, 0.003724520627479452, 0.031732611895867895, 0.9519783568760369, 0.031686317759763695, 0.9241842679931077, 0.04224842367968492, 0.016434787524863676, 0.9696524639669569, 0.9754416249415793, 0.9958448560001739, 0.2904083116373878, 0.6776193938205715, 0.9908608114712123, 0.07014839851969806, 0.920697730571037, 0.9846762393919746, 0.18804822769581106, 0.7898025563224064, 0.9271172439804289, 0.04414844018954424, 0.8630570694409528, 0.10153612581658268, 0.9589857394464335, 0.9084753885175119, 0.05343972873632422, 0.9025323085740352, 0.0564082692858772, 0.06303330079048258, 0.10505550131747098, 0.5672997071143433, 0.25913690324976174, 0.11680868404049036, 0.2283078824427766, 0.13273714095510267, 0.18583199733714376, 0.2707837675484095, 0.06371382765844928, 0.9779608894695215, 0.9692121280552575, 0.9619608406423856, 0.01777172245280299, 0.9596730124513614, 0.03661024753938744, 0.02440683169292496, 0.915256188484686, 0.020339026410770802, 0.9987155024129305, 0.015345539861909814, 0.9667690113003183, 0.05633801399091456, 0.01251955866464768, 0.5383410225798503, 0.3943660979364019, 0.33817090832339863, 0.6280316868863117, 0.33919561252204417, 0.08479890313051104, 0.5511928703483218, 0.0800025471504222, 0.06400203772033776, 0.01600050943008444, 0.5360170659078287, 0.22400713202118216, 0.0800025471504222, 0.6928473814573699, 0.3024333807948837, 0.219523240406213, 0.7756487827686193, 0.9959902000884021, 0.9895889652537723, 0.9639763910037029, 0.9878647236195701, 0.9872908563484112, 0.9327927416903357, 0.03886636423709732, 0.9873522365549273, 0.986622713893849, 0.14570967036510038, 0.04757866787431849, 0.008921000226434718, 0.017842000452869437, 0.6214963491082853, 0.13976233688081058, 0.017842000452869437, 0.9692120780792902, 0.9381202827250826, 0.0360815493355801, 0.5352962522449478, 0.1753556688388622, 0.12151840209008871, 0.04614622864180584, 0.10152170301197286, 0.021534906699509394, 0.9093681193293592, 0.06736060143180439, 0.20084511843909833, 0.14059158290736884, 0.6427043790051147, 0.22539602032931774, 0.763842068893799, 0.025976538266472483, 0.9351553775930094, 0.979221935847469, 0.9817512715017904, 0.013975107067641145, 0.9659649979316598, 0.11223709826589547, 0.5611854913294773, 0.048636075915221365, 0.27685150905587547, 0.8636448978784775, 0.1286279635138158, 0.9748493301987079, 0.9806628722442458, 0.1375750042216262, 0.8139854416446216, 0.04585833474054206, 0.9882585806638161, 0.9872454290636845, 0.4454284692537835, 0.04488814031239678, 0.1726466935092184, 0.11049388384589977, 0.07251161127387172, 0.0966821483651623, 0.05179400805276552, 0.9978386144684006, 0.9692616425350089, 0.9731152055382001, 0.967059630804625, 0.8994691999613408, 0.08704540644787169, 0.026667065795739783, 0.040000598693609675, 0.08000119738721935, 0.08000119738721935, 0.7600113751785839, 0.9681307657174493, 0.9567541031840922, 0.991073639348916, 0.9237717341030548, 0.057735733381440925, 0.21457164167766382, 0.06659119914134394, 0.04686047346983462, 0.21703798238660246, 0.11591801332011722, 0.2934945443637011, 0.032062429216202636, 0.012331703544693323, 0.1713396940686534, 0.11113926101750492, 0.1342932737294851, 0.5186498847483563, 0.01852321016958415, 0.04167722288156434, 0.2491930091045154, 0.017185724765828646, 0.6229825227612885, 0.004296431191457162, 0.05155717429748594, 0.0558536054889431, 0.023886526257658098, 0.24483689414099552, 0.42398584107343124, 0.28066668352748264, 0.02985815782207262, 0.9681307235532784, 0.9591039934965311, 0.029971999796766596, 0.9928211970699642, 0.9930848850452881, 0.9862397712423373, 0.005870474828823437, 0.9772548512496205, 0.04777499672563309, 0.9486749349804284, 0.4080004981902285, 0.1573013968926182, 0.06881936114052047, 0.2064580834215614, 0.1573013968926182, 0.06862555088414454, 0.9333074920243658, 0.9867839718739159, 0.8486959250693205, 0.03358954848559315, 0.10300794868915235, 0.013435819394237263, 0.8078209541675702, 0.18752986436032879, 0.8385565922172814, 0.13240367245536022, 0.9923977542125225, 0.950903872603829, 0.029715746018869657, 0.9869759491618098, 0.9874207107878562, 0.8616215027019655, 0.11598750997911074, 0.9587167590305331, 0.01972668228457887, 0.01972668228457887, 0.9263727326043215, 0.008383463643478022, 0.06287597732608517, 0.018295198833156053, 0.11891879241551435, 0.8598743451583346, 0.016982804968960857, 0.9680198832307688, 0.061019970545764184, 0.0976319528732227, 0.8359735964769693, 0.20762128656779807, 0.09227612736346581, 0.2652938661699642, 0.4383116049764626, 0.07271893739061797, 0.03231952772916354, 0.03635946869530898, 0.1979571073411267, 0.5615517942942165, 0.024239645796872655, 0.07271893739061797, 0.9749533347890978, 0.020171448305981336, 0.033731164446911405, 0.5776461911533578, 0.29936408446633866, 0.0843279111172785, 0.8631862720363048, 0.08264549413113557, 0.03673133072494914, 0.01836566536247457, 0.003309505706566511, 0.2995102664442692, 0.24324866943263854, 0.19195133098085762, 0.21346311807353996, 0.047987832745214405, 0.9816255868118533, 0.9697313274627442, 0.1965758391754942, 0.15349072373976946, 0.16695482231343345, 0.11848406744824308, 0.04039229572099196, 0.12925534630717428, 0.15079790402503665, 0.04308511543572476, 0.9343438093540193, 0.03259338869839602, 0.03259338869839602, 0.08828748774112302, 0.07847776688099824, 0.06376318559081107, 0.3286256488141801, 0.3204508814307428, 0.03760392996381166, 0.027794209103686875, 0.05558841820737375, 0.9696402288604122, 0.44789793523447674, 0.5429065881630021, 0.9792219639312446, 0.8387886609148111, 0.13244031488128596, 0.9769682784816762, 0.008890506827733544, 0.23559843093493893, 0.09779557510506899, 0.04445253413866772, 0.5556566767333465, 0.057788294380268036, 0.5252906691068513, 0.24055367089939916, 0.019637034359134626, 0.02454629294891828, 0.0049092585897836565, 0.18164256782199528, 0.962713173827474, 0.4646101239242698, 0.5276081068292555, 0.9740195917728905, 0.08602757172207907, 0.018818531314204797, 0.3360452020393714, 0.3333568404230564, 0.10215774141996889, 0.08871593333839405, 0.03226033939577965, 0.6385531541295826, 0.03508533813898806, 0.11227308204476179, 0.21051202883392833, 0.9090308900072156, 0.06733562148201597, 0.9699589507713133, 0.01515560860580177, 0.09168348212145132, 0.901554240860938, 0.9747606498080913, 0.9865387845920808, 0.966789815578014, 0.02148421812395587, 0.984192425412259, 0.012092047593907031, 0.1571966187207914, 0.060460237969535154, 0.09673638075125625, 0.6650626176648867, 0.9769682780034966, 0.17666628656587446, 0.17666628656587446, 0.044166571641468616, 0.5741654313390919, 0.8307034264045124, 0.0307667935705375, 0.09230038071161249, 0.9948705963515543, 0.004233491899368316, 0.8415358381033955, 0.15456780699858286, 0.9706888067206768, 0.9779609114518386, 0.06532797597925155, 0.9145916637095217, 0.9855203614585724, 0.0889295587797925, 0.5489100352269951, 0.180925654069233, 0.036798438115776204, 0.14412721595345682, 0.978349089168872, 0.338498419006801, 0.6205804348458018, 0.8170474105670574, 0.07427703732427794, 0.059421629859422356, 0.029710814929711178, 0.9064962908830363, 0.07769968207568882, 0.009930877441500282, 0.005958526464900169, 0.9831568667085279, 0.9943011845102787, 0.9970324714512073, 0.9712224687883976, 0.9855830091120704, 0.9821919166216988, 0.978396983924871, 0.015287452873826109, 0.9912281400570879, 0.9791507136757978, 0.019524552229486982, 0.9567030592448621, 0.02033203363364656, 0.04066406726729312, 0.04066406726729312, 0.8946094798804487, 0.8461876257774569, 0.13162918623204883, 0.9887328643592427, 0.056468455541989176, 0.28234227770994585, 0.6493872387328755, 0.9857112756430148, 0.9727754205820851, 0.05916198951833254, 0.043026901467878215, 0.043026901467878215, 0.5701064444493863, 0.08067544025227165, 0.08067544025227165, 0.12370234172014986, 0.99614211001129, 0.278355155288125, 0.4771802662082143, 0.11929506655205357, 0.045445739638877554, 0.03408430472915817, 0.05112645709373725, 0.9724883236152466, 0.2331867215886822, 0.1554578143924548, 0.5181927146415161, 0.0129548178660379, 0.0777289071962274, 0.9967973398391902, 0.9693767926800501, 0.9520346553838803, 0.040226816424671, 0.9988282134246687, 0.02556227228435867, 0.9330229383790914, 0.038343408426538, 0.8201192778208909, 0.1562131957754078, 0.04736233754425328, 0.5259712222019707, 0.31408708055662704, 0.04736233754425328, 0.052347846759437835, 0.009971018430369112, 0.9839447459799421, 0.03465877142209972, 0.011552923807366574, 0.9473397522040591, 0.9938920155001125, 0.9992925771511005, 0.9934105911656923, 0.9791709189982083, 0.3557158562821349, 0.02540827544872392, 0.5843903353206502, 0.9670595945500569, 0.9846762385626243, 0.9924104420162887, 0.9757402018528831, 0.15629747049030845, 0.11722310286773135, 0.019537183811288557, 0.05861155143386568, 0.6251898819612338, 0.9645884526734053, 0.9581510924146662, 0.1551330347051058, 0.02270239532269841, 0.01891866276891534, 0.6848555922347354, 0.11729570916727511, 0.9830941578549556, 0.06750548194136491, 0.9113240062084262, 0.5558683054192486, 0.06413865062529792, 0.007126516736144214, 0.34919932007106647, 0.02137955020843264, 0.8695701033455321, 0.07672677382460577, 0.038363386912302885, 0.9943435918525255, 0.9194700474495667, 0.07662250395413056, 0.9887147026783407, 0.9659650537043007, 0.04841433995290998, 0.02420716997645499, 0.16945018983518492, 0.7262150992936497, 0.9958483850291262, 0.03172566496544639, 0.9200442839979452, 0.018366913714446258, 0.6795758074345115, 0.1910159026302411, 0.02204029645733551, 0.014693530971557007, 0.05510074114333877, 0.02204029645733551, 0.7681661405835475, 0.0832495324770347, 0.1059539504253169, 0.03784069658047032, 0.7917300064774451, 0.007838910955222229, 0.07055019859700006, 0.12542257528355566, 0.9965376876685085, 0.08957710895780782, 0.08957710895780782, 0.18910723002203875, 0.05971807263853855, 0.5673216900661162, 0.9791507129483233, 0.032747775774536705, 0.06549555154907341, 0.0982433273236101, 0.6303946836598315, 0.06549555154907341, 0.06549555154907341, 0.04912166366180505, 0.902466270321417, 0.07837796392369627, 0.017914963182559147, 0.9679600509025335, 0.028056813069638652, 0.1691631683306235, 0.07400888614464779, 0.3118945916095871, 0.32246728963025106, 0.07400888614464779, 0.047577141092987864, 0.9820235000626135, 0.9692616397339023, 0.04247278146890167, 0.8722459023613465, 0.08494556293780334, 0.9616309835066947, 0.028705402492737155, 0.10707681282517552, 0.009311027202189175, 0.7914373121860799, 0.009311027202189175, 0.07914373121860799, 0.13871524661123674, 0.06305238482328943, 0.24590430081082879, 0.554860986444947, 0.06352271841054875, 0.9210794169529569, 0.9782691331836143, 0.05342353242849219, 0.9082000512843672, 0.008741584967455517, 0.8841488795655008, 0.07992306255959329, 0.024975957049872904, 0.07816299873334552, 0.0868477763703839, 0.10421733164446069, 0.06079344345926874, 0.6687278780519561, 0.9943354097448347, 0.148330391085975, 0.8454832291900575, 0.06302930265518145, 0.9364353537341242, 0.04751746702417128, 0.9503493404834256, 0.21573552865827084, 0.03451768458532333, 0.01294413171949625, 0.26319734496309044, 0.0776647903169775, 0.39695337273121833, 0.8620905770439585, 0.007066316205278349, 0.12719369169501027, 0.9835166087014601, 0.5253735677714093, 0.14931669820871632, 0.32075438874464984, 0.987795793119054, 0.9777747448410634, 0.9043063329801843, 0.053194490175304955, 0.009858732655520935, 0.1380222571772931, 0.852780374702561, 0.18550420266353332, 0.7626283887278591, 0.051528945184314806, 0.10811550986527378, 0.6054468552455332, 0.2811003256497118, 0.0597279156553454, 0.019909305218448466, 0.0895918734830181, 0.07963722087379387, 0.7465989456918175, 0.9812058851403596, 0.7160993024558461, 0.038294080345232406, 0.007658816069046482, 0.17232336155354583, 0.022976448207139444, 0.04212348837975565, 0.7708566487944751, 0.17130147750988337, 0.02855024625164723, 0.019033497501098152, 0.23812018861914672, 0.13458967182821335, 0.441730204974649, 0.07592237898001779, 0.031059155037280007, 0.07937339620638224, 0.9694960940276063, 0.02423740235069016, 0.9839359003328617, 0.059737142240500134, 0.15929904597466701, 0.019912380746833377, 0.7566704683796683, 0.733402458989043, 0.08199530597393027, 0.03644235821063568, 0.05466353731595352, 0.0911058955265892, 0.022439990411312418, 0.9649195876864339, 0.20339785638008806, 0.680330760995467, 0.07013719185520277, 0.04909603429864194, 0.00873442166641583, 0.10481305999698996, 0.8472389016423355, 0.03493768666566332, 0.9839358925113721, 0.10000361126084557, 0.044446049449264696, 0.48149886903370087, 0.11852279853137253, 0.011111512362316174, 0.2148225723381127, 0.025926862178737742, 0.9791663499456777, 0.8763672568172702, 0.10397577623255749, 0.042023742518986766, 0.9245223354177089, 0.01400791417299559, 0.9037941212840347, 0.05316436007553145, 0.9801186838203816, 0.9881495770656582, 0.9871163593785142, 0.6997769240501944, 0.17038046846439517, 0.12778535134829638, 0.9971643418607664, 0.9572521886857329, 0.02315932714562257, 0.015439551430415048, 0.9918781091843032, 0.1422839339329846, 0.8359181118562846, 0.9814688104580682, 0.016863725265602546, 0.15435692509458102, 0.029684024056650198, 0.7124165773596047, 0.059368048113300396, 0.04749443849064031, 0.3714305934595531, 0.6190509890992552, 0.9555097950534261, 0.14706236338369805, 0.02941247267673961, 0.6617806352266413, 0.14706236338369805, 0.24367955257382334, 0.73103865772147, 0.0994959111496038, 0.0994959111496038, 0.05685480637120217, 0.05211690584026865, 0.49747955574801894, 0.08054430902586973, 0.10897171221147081, 0.07438892824475646, 0.26036124885664763, 0.2231667847342694, 0.4339354147610794, 0.14110821809525287, 0.8466493085715172, 0.8976945455523392, 0.10099063637463816, 0.9581510927889897, 0.7925628187085135, 0.20628347336248984, 0.27478505662600594, 0.08454924819261721, 0.22380683345104557, 0.12931061488282633, 0.10568656024077151, 0.12060701580417456, 0.03357102501765683, 0.02735416853290557, 0.9522314701713073, 0.03341163053232657, 0.012928977347313367, 0.9567443237011891, 0.012928977347313367, 0.9646966098178955, 0.9802128563086311, 0.982687206769267, 0.2922025201595545, 0.635222869912075, 0.025408914796483, 0.0127044573982415, 0.03176114349560375, 0.9365877120112343, 0.01836446494139675, 0.0367289298827935, 0.11710656835773604, 0.6883581213223021, 0.07854708853262783, 0.054268897531633775, 0.061409541943690846, 0.1763832057716857, 0.8157723266940464, 0.48360050040984004, 0.290160300245904, 0.22030689463114936, 0.9777747898694232, 0.08319117599276568, 0.8984647007218692, 0.9712721891784877, 0.9827185391939616, 0.017692022014587624, 0.9730612108023192, 0.9895509030755933, 0.021189425220711513, 0.1695154017656921, 0.7840087331663259, 0.9390127058852671, 0.05578293302288716], \"Term\": [\"a\\u80a1\", \"\\u4e00\\u7403\", \"\\u4e00\\u7403\", \"\\u4e0a\\u573a\", \"\\u4e0a\\u573a\", \"\\u4e13\\u4e1a\", \"\\u4e13\\u4e1a\", \"\\u4e13\\u4e1a\", \"\\u4e13\\u4e1a\", \"\\u4e13\\u4e1a\", \"\\u4e13\\u4e1a\", \"\\u4e13\\u5bb6\", \"\\u4e13\\u5bb6\", \"\\u4e13\\u5bb6\", \"\\u4e13\\u5bb6\", \"\\u4e16\\u754c\", \"\\u4e16\\u754c\", \"\\u4e16\\u754c\", \"\\u4e16\\u754c\", \"\\u4e16\\u754c\", \"\\u4e16\\u754c\", \"\\u4e16\\u754c\", \"\\u4e16\\u754c\", \"\\u4e1a\\u4e3b\", \"\\u4e1a\\u4e3b\", \"\\u4e1a\\u52a1\", \"\\u4e1a\\u52a1\", \"\\u4e1a\\u52a1\", \"\\u4e1a\\u7ee9\", \"\\u4e1a\\u7ee9\", \"\\u4e1a\\u7ee9\", \"\\u4e2a\\u80a1\", \"\\u4e2d\\u5f0f\", \"\\u4e2d\\u5fc3\", \"\\u4e2d\\u5fc3\", \"\\u4e2d\\u5fc3\", \"\\u4e2d\\u5fc3\", \"\\u4e2d\\u91d1\", \"\\u4e3b\\u573a\", \"\\u4e3b\\u573a\", \"\\u4e3b\\u6301\\u4eba\", \"\\u4e3b\\u6301\\u4eba\", \"\\u4e3b\\u6559\\u7ec3\", \"\\u4e3b\\u6f14\", \"\\u4e3b\\u89d2\", \"\\u4e3b\\u961f\", \"\\u4e8b\\u60c5\", \"\\u4e8b\\u60c5\", \"\\u4e8b\\u60c5\", \"\\u4e8b\\u60c5\", \"\\u4e8b\\u60c5\", \"\\u4e8b\\u60c5\", \"\\u4e92\\u8054\\u7f51\", \"\\u4e92\\u8054\\u7f51\", \"\\u4e92\\u8054\\u7f51\", \"\\u4ea7\\u4e1a\", \"\\u4ea7\\u4e1a\", \"\\u4ea7\\u54c1\", \"\\u4ea7\\u54c1\", \"\\u4ea7\\u54c1\", \"\\u4ea7\\u54c1\", \"\\u4eba\\u4eec\", \"\\u4eba\\u4eec\", \"\\u4eba\\u4eec\", \"\\u4eba\\u4eec\", \"\\u4eba\\u4eec\", \"\\u4eba\\u5458\", \"\\u4eba\\u5458\", \"\\u4eba\\u5458\", \"\\u4eba\\u5458\", \"\\u4eba\\u58eb\", \"\\u4eba\\u58eb\", \"\\u4eba\\u58eb\", \"\\u4eba\\u5bb6\", \"\\u4eba\\u5bb6\", \"\\u4eba\\u5c45\", \"\\u4eba\\u7269\", \"\\u4eba\\u7269\", \"\\u4eba\\u7269\", \"\\u4eba\\u751f\", \"\\u4eba\\u751f\", \"\\u4eba\\u751f\", \"\\u4eba\\u751f\", \"\\u4eba\\u7c7b\", \"\\u4eba\\u7c7b\", \"\\u4eba\\u7c7b\", \"\\u4ef7\\u4f4d\", \"\\u4ef7\\u683c\", \"\\u4ef7\\u683c\", \"\\u4ef7\\u683c\", \"\\u4efb\\u52a1\", \"\\u4efb\\u52a1\", \"\\u4efb\\u52a1\", \"\\u4efb\\u52a1\", \"\\u4efb\\u52a1\", \"\\u4efb\\u52a1\", \"\\u4f01\\u4e1a\", \"\\u4f01\\u4e1a\", \"\\u4f01\\u4e1a\", \"\\u4f18\\u52bf\", \"\\u4f18\\u52bf\", \"\\u4f18\\u52bf\", \"\\u4f18\\u52bf\", \"\\u4f18\\u52bf\", \"\\u4f18\\u52bf\", \"\\u4f20\\u5947\", \"\\u4f20\\u5947\", \"\\u4f20\\u5947\", \"\\u4f4e\\u5bc6\\u5ea6\", \"\\u4f4e\\u70b9\", \"\\u4f4f\\u5b85\", \"\\u4f4f\\u5b85\", \"\\u4f4f\\u623f\", \"\\u4f53\\u80b2\\u8baf\", \"\\u4f53\\u80b2\\u8baf\", \"\\u4f5c\\u54c1\", \"\\u4f5c\\u54c1\", \"\\u4f5c\\u54c1\", \"\\u4fe1\\u8d37\", \"\\u4ff1\\u4e50\\u90e8\", \"\\u4ff1\\u4e50\\u90e8\", \"\\u4ff1\\u4e50\\u90e8\", \"\\u4ff1\\u4e50\\u90e8\", \"\\u503a\\u52a1\", \"\\u505a\\u5ba2\", \"\\u505a\\u5ba2\", \"\\u505a\\u5ba2\", \"\\u505a\\u5ba2\", \"\\u5168\\u4ed3\", \"\\u5168\\u7403\", \"\\u5168\\u7403\", \"\\u5168\\u7403\", \"\\u5168\\u7403\", \"\\u5168\\u7403\", \"\\u516c\\u53f8\", \"\\u516c\\u53f8\", \"\\u516c\\u53f8\", \"\\u516c\\u53f8\", \"\\u516c\\u53f8\", \"\\u516c\\u53f8\", \"\\u516c\\u5bd3\", \"\\u516c\\u5bd3\", \"\\u516c\\u5bd3\", \"\\u516c\\u6c11\", \"\\u5185\\u5730\", \"\\u5185\\u5730\", \"\\u5185\\u5730\", \"\\u5185\\u5bb9\", \"\\u5185\\u5bb9\", \"\\u5185\\u5bb9\", \"\\u5185\\u5bb9\", \"\\u5185\\u5bb9\", \"\\u5185\\u7ebf\", \"\\u51a0\\u519b\", \"\\u51a0\\u519b\", \"\\u51a0\\u519b\", \"\\u51b3\\u8d5b\", \"\\u51b3\\u8d5b\", \"\\u5206\\u6790\", \"\\u5206\\u6790\", \"\\u5206\\u6790\", \"\\u5206\\u6790\", \"\\u5206\\u6790\", \"\\u5206\\u6790\", \"\\u5206\\u6790\", \"\\u5206\\u914d\", \"\\u5206\\u914d\", \"\\u5206\\u914d\", \"\\u5206\\u914d\", \"\\u521d\\u76d8\", \"\\u522b\\u5885\", \"\\u5236\\u4f5c\", \"\\u5236\\u4f5c\", \"\\u5236\\u4f5c\", \"\\u524d\\u950b\", \"\\u5267\\u60c5\", \"\\u5267\\u672c\", \"\\u5267\\u7ec4\", \"\\u529e\\u7406\", \"\\u529e\\u7406\", \"\\u529e\\u7406\", \"\\u529f\\u592b\", \"\\u529f\\u592b\", \"\\u529f\\u592b\", \"\\u529f\\u80fd\", \"\\u529f\\u80fd\", \"\\u529f\\u80fd\", \"\\u529f\\u80fd\", \"\\u52a8\\u7269\", \"\\u52a8\\u7269\", \"\\u52a9\\u653b\", \"\\u533a\\u57df\", \"\\u533a\\u57df\", \"\\u533b\\u7597\", \"\\u533b\\u7597\", \"\\u534a\\u7403\", \"\\u534e\\u8bed\", \"\\u534e\\u8bed\", \"\\u538b\\u529b\", \"\\u538b\\u529b\", \"\\u538b\\u529b\", \"\\u538b\\u529b\", \"\\u538b\\u529b\", \"\\u539f\\u6cb9\", \"\\u53d1\\u5c55\", \"\\u53d1\\u5c55\", \"\\u53d1\\u5c55\", \"\\u53d1\\u5c55\", \"\\u53d1\\u5c55\", \"\\u53d1\\u5c55\", \"\\u53d1\\u5c55\", \"\\u53f7\\u7ebf\", \"\\u5408\\u4f5c\", \"\\u5408\\u4f5c\", \"\\u5408\\u4f5c\", \"\\u5408\\u4f5c\", \"\\u5408\\u4f5c\", \"\\u5408\\u4f5c\", \"\\u540c\\u4e8b\", \"\\u540c\\u5b66\", \"\\u540c\\u5b66\", \"\\u540d\\u5b57\", \"\\u540d\\u5b57\", \"\\u540d\\u5b57\", \"\\u540d\\u5b57\", \"\\u540d\\u6821\", \"\\u540d\\u6821\", \"\\u540e\\u5e02\", \"\\u5458\\u5de5\", \"\\u5458\\u5de5\", \"\\u5468\\u7ebf\", \"\\u547d\\u4e2d\\u7387\", \"\\u5546\\u4e1a\", \"\\u5546\\u4e1a\", \"\\u5546\\u4e1a\", \"\\u559c\\u5267\", \"\\u56de\\u5bb6\", \"\\u56de\\u5bb6\", \"\\u56ed\\u6797\", \"\\u56fd\\u4f1a\", \"\\u56fd\\u5bb6\", \"\\u56fd\\u5bb6\", \"\\u56fd\\u5bb6\", \"\\u56fd\\u5bb6\", \"\\u56fd\\u5bb6\", \"\\u56fd\\u9645\", \"\\u56fd\\u9645\", \"\\u56fd\\u9645\", \"\\u56fd\\u9645\", \"\\u56fd\\u9645\", \"\\u56fd\\u9645\", \"\\u56fd\\u9645\", \"\\u5730\\u4ea7\", \"\\u5730\\u4ea7\", \"\\u5730\\u5757\", \"\\u5730\\u65b9\", \"\\u5730\\u65b9\", \"\\u5730\\u65b9\", \"\\u5730\\u65b9\", \"\\u5730\\u65b9\", \"\\u5730\\u65b9\", \"\\u5730\\u6bb5\", \"\\u5730\\u7403\", \"\\u5730\\u7403\", \"\\u5730\\u94c1\", \"\\u5747\\u4ef7\", \"\\u5747\\u4ef7\", \"\\u5747\\u7ebf\", \"\\u5750\\u5802\", \"\\u57fa\\u672c\\u9762\", \"\\u57fa\\u672c\\u9762\", \"\\u57fa\\u91d1\", \"\\u57fa\\u91d1\", \"\\u58f0\\u97f3\", \"\\u58f0\\u97f3\", \"\\u58f0\\u97f3\", \"\\u58f0\\u97f3\", \"\\u5916\\u56fd\\u4eba\", \"\\u5927\\u4f17\", \"\\u5927\\u4f17\", \"\\u5927\\u4f17\", \"\\u5927\\u5956\\u8d5b\", \"\\u5927\\u5b66\", \"\\u5927\\u5b66\", \"\\u5927\\u5b66\", \"\\u5927\\u5b66\", \"\\u5927\\u7247\", \"\\u5927\\u7247\", \"\\u5927\\u76d8\", \"\\u5927\\u76d8\", \"\\u5927\\u76d8\", \"\\u5927\\u8d5b\", \"\\u5927\\u8d5b\", \"\\u592a\\u7a7a\", \"\\u5947\\u624d\", \"\\u5956\\u52b1\", \"\\u5956\\u52b1\", \"\\u5956\\u5b66\\u91d1\", \"\\u5956\\u91d1\", \"\\u5956\\u91d1\", \"\\u5973\\u4e3b\\u89d2\", \"\\u5973\\u4eba\", \"\\u5973\\u4eba\", \"\\u5973\\u513f\", \"\\u5973\\u513f\", \"\\u5973\\u5b69\", \"\\u5973\\u5b69\", \"\\u5973\\u661f\", \"\\u5973\\u751f\", \"\\u5973\\u751f\", \"\\u5988\\u5988\", \"\\u5988\\u5988\", \"\\u5a31\\u4e50\", \"\\u5a31\\u4e50\", \"\\u5a31\\u4e50\", \"\\u5a31\\u4e50\", \"\\u5a92\\u4f53\", \"\\u5a92\\u4f53\", \"\\u5a92\\u4f53\", \"\\u5a92\\u4f53\", \"\\u5a92\\u4f53\", \"\\u5a92\\u4f53\", \"\\u5b50\\u5973\", \"\\u5b5d\\u6587\", \"\\u5b63\\u519b\", \"\\u5b66\\u672f\", \"\\u5b66\\u672f\", \"\\u5b66\\u6821\", \"\\u5b66\\u6821\", \"\\u5b66\\u6821\", \"\\u5b66\\u6821\", \"\\u5b66\\u751f\", \"\\u5b66\\u8d39\", \"\\u5b66\\u8d39\", \"\\u5b69\\u5b50\", \"\\u5b69\\u5b50\", \"\\u5b69\\u5b50\", \"\\u5b69\\u5b50\", \"\\u5b87\\u5b99\", \"\\u5b87\\u5b99\", \"\\u5b98\\u65b9\", \"\\u5b98\\u65b9\", \"\\u5b98\\u65b9\", \"\\u5b9e\\u529b\", \"\\u5b9e\\u529b\", \"\\u5b9e\\u529b\", \"\\u5b9e\\u529b\", \"\\u5b9e\\u529b\", \"\\u5b9e\\u529b\", \"\\u5ba2\\u573a\", \"\\u5ba2\\u573a\", \"\\u5ba2\\u6237\", \"\\u5ba2\\u6237\", \"\\u5ba2\\u80dc\", \"\\u5ba2\\u961f\", \"\\u5bb6\\u5c45\", \"\\u5bb6\\u957f\", \"\\u5bf9\\u9635\", \"\\u5c01\\u9762\", \"\\u5c01\\u9762\", \"\\u5c0f\\u533a\", \"\\u5c45\\u6c11\", \"\\u5de5\\u4f5c\", \"\\u5de5\\u4f5c\", \"\\u5de5\\u4f5c\", \"\\u5de5\\u4f5c\", \"\\u5de5\\u4f5c\", \"\\u5de5\\u4f5c\", \"\\u5de5\\u4f5c\", \"\\u5de5\\u7a0b\\u5e08\", \"\\u5de5\\u8d44\", \"\\u5de5\\u8d44\", \"\\u5e02\\u573a\", \"\\u5e02\\u573a\", \"\\u5e02\\u573a\", \"\\u5e02\\u573a\", \"\\u5e02\\u573a\", \"\\u5e02\\u573a\", \"\\u5e02\\u6c11\", \"\\u5e02\\u6c11\", \"\\u5e73\\u53f0\", \"\\u5e73\\u53f0\", \"\\u5e73\\u53f0\", \"\\u5e73\\u5c40\", \"\\u5e73\\u5c40\", \"\\u5e73\\u624b\", \"\\u5e73\\u624b\", \"\\u5ead\\u9662\", \"\\u5efa\\u7b51\", \"\\u5efa\\u7b51\", \"\\u5efa\\u7b51\\u9762\\u79ef\", \"\\u5efa\\u8bae\", \"\\u5efa\\u8bae\", \"\\u5efa\\u8bae\", \"\\u5efa\\u8bae\", \"\\u5f00\\u53d1\\u5546\", \"\\u5f00\\u53d1\\u5546\", \"\\u5f00\\u5956\", \"\\u5f00\\u5c40\", \"\\u5f62\\u6001\", \"\\u5f62\\u6001\", \"\\u5f62\\u6001\", \"\\u5f69\\u7968\", \"\\u5f71\\u540e\", \"\\u5f71\\u54cd\", \"\\u5f71\\u54cd\", \"\\u5f71\\u54cd\", \"\\u5f71\\u54cd\", \"\\u5f71\\u54cd\", \"\\u5f71\\u54cd\", \"\\u5f71\\u54cd\", \"\\u5f71\\u7247\", \"\\u5f71\\u8bc4\\u4eba\", \"\\u5f71\\u8ff7\", \"\\u5f71\\u9662\", \"\\u5fae\\u7b11\", \"\\u5fae\\u7b11\", \"\\u5fc3\\u7406\", \"\\u5fc3\\u7406\", \"\\u5fc3\\u7406\", \"\\u5fc3\\u7406\", \"\\u5fc3\\u7406\", \"\\u5feb\\u653b\", \"\\u603b\\u4ef7\", \"\\u603b\\u51b3\\u8d5b\", \"\\u603b\\u7edf\", \"\\u603b\\u7edf\", \"\\u60c5\\u51b5\", \"\\u60c5\\u51b5\", \"\\u60c5\\u51b5\", \"\\u60c5\\u51b5\", \"\\u60c5\\u51b5\", \"\\u60c5\\u51b5\", \"\\u60c5\\u51b5\", \"\\u60c5\\u51b5\", \"\\u611f\\u89c9\", \"\\u611f\\u89c9\", \"\\u611f\\u89c9\", \"\\u611f\\u89c9\", \"\\u611f\\u89c9\", \"\\u611f\\u89c9\", \"\\u6210\\u672c\", \"\\u6210\\u672c\", \"\\u6210\\u672c\", \"\\u6210\\u672c\", \"\\u6210\\u672c\", \"\\u6210\\u672c\", \"\\u6210\\u7ee9\", \"\\u6210\\u7ee9\", \"\\u6210\\u7ee9\", \"\\u6210\\u7ee9\", \"\\u6210\\u7ee9\", \"\\u6218\\u672f\", \"\\u6218\\u7ee9\", \"\\u6218\\u7ee9\", \"\\u6218\\u961f\", \"\\u6237\\u578b\", \"\\u623f\\u5b50\", \"\\u623f\\u5b50\", \"\\u623f\\u6e90\", \"\\u624b\\u673a\", \"\\u624b\\u673a\", \"\\u6280\\u672f\", \"\\u6280\\u672f\", \"\\u6280\\u672f\", \"\\u6280\\u672f\", \"\\u6280\\u672f\", \"\\u6295\\u7968\", \"\\u6295\\u7968\", \"\\u6295\\u7bee\", \"\\u6295\\u8d44\", \"\\u6295\\u8d44\", \"\\u6295\\u8d44\", \"\\u6295\\u8d44\", \"\\u6295\\u8d44\\u8005\", \"\\u6295\\u8d44\\u8005\", \"\\u62a5\\u7eb8\", \"\\u62a5\\u7eb8\", \"\\u6307\\u70b9\", \"\\u63aa\\u65bd\", \"\\u63aa\\u65bd\", \"\\u652f\\u6491\\u4f4d\", \"\\u652f\\u6491\\u70b9\", \"\\u6539\\u9769\", \"\\u6539\\u9769\", \"\\u653f\\u5e9c\", \"\\u653f\\u5e9c\", \"\\u653f\\u5e9c\", \"\\u653f\\u7b56\", \"\\u653f\\u7b56\", \"\\u653f\\u7b56\", \"\\u6545\\u4e8b\", \"\\u6545\\u4e8b\", \"\\u6545\\u4e8b\", \"\\u6559\\u7ec3\", \"\\u6559\\u7ec3\", \"\\u6559\\u80b2\", \"\\u6559\\u80b2\", \"\\u6559\\u80b2\", \"\\u6570\\u5b57\", \"\\u6570\\u5b57\", \"\\u6570\\u5b57\", \"\\u6570\\u5b57\", \"\\u6570\\u636e\", \"\\u6570\\u636e\", \"\\u6570\\u636e\", \"\\u6570\\u636e\", \"\\u6570\\u636e\", \"\\u6570\\u636e\", \"\\u6570\\u636e\", \"\\u6574\\u7406\", \"\\u6574\\u7406\", \"\\u6587\\u5316\", \"\\u6587\\u5316\", \"\\u6587\\u5316\", \"\\u6587\\u5316\", \"\\u6587\\u7ae0\", \"\\u6587\\u7ae0\", \"\\u6587\\u7ae0\", \"\\u6587\\u7ae0\", \"\\u65b0\\u6d6a\", \"\\u65b0\\u6d6a\", \"\\u65b0\\u6d6a\", \"\\u65b0\\u6d6a\", \"\\u65b0\\u6d6a\", \"\\u65b0\\u6d6a\", \"\\u65b0\\u7247\", \"\\u65b0\\u80a1\", \"\\u65b9\\u9762\", \"\\u65b9\\u9762\", \"\\u65b9\\u9762\", \"\\u65b9\\u9762\", \"\\u65b9\\u9762\", \"\\u65b9\\u9762\", \"\\u65b9\\u9762\", \"\\u65b9\\u9762\", \"\\u65c5\\u6e38\", \"\\u65c5\\u6e38\", \"\\u65c5\\u6e38\", \"\\u65f6\\u95f4\", \"\\u65f6\\u95f4\", \"\\u65f6\\u95f4\", \"\\u65f6\\u95f4\", \"\\u65f6\\u95f4\", \"\\u65f6\\u95f4\", \"\\u65f6\\u95f4\", \"\\u65f6\\u95f4\", \"\\u661f\\u9645\", \"\\u661f\\u9645\\u4e89\\u9738\", \"\\u661f\\u9645\\u4e89\\u9738\", \"\\u666f\\u89c2\", \"\\u66dd\\u5149\", \"\\u66dd\\u5149\", \"\\u6709\\u8272\", \"\\u670b\\u53cb\", \"\\u670b\\u53cb\", \"\\u670b\\u53cb\", \"\\u670b\\u53cb\", \"\\u670b\\u53cb\", \"\\u670b\\u53cb\", \"\\u670d\\u52a1\", \"\\u670d\\u52a1\", \"\\u670d\\u52a1\", \"\\u670d\\u52a1\", \"\\u670d\\u52a1\", \"\\u670d\\u52a1\", \"\\u671f\\u8d27\", \"\\u672c\\u573a\", \"\\u672c\\u573a\", \"\\u672c\\u7247\", \"\\u673a\\u4f1a\", \"\\u673a\\u4f1a\", \"\\u673a\\u4f1a\", \"\\u673a\\u4f1a\", \"\\u673a\\u4f1a\", \"\\u673a\\u4f1a\", \"\\u673a\\u4f1a\", \"\\u673a\\u6784\", \"\\u673a\\u6784\", \"\\u673a\\u6784\", \"\\u673a\\u6784\", \"\\u673a\\u9047\", \"\\u673a\\u9047\", \"\\u6742\\u5fd7\", \"\\u6742\\u5fd7\", \"\\u677f\\u5757\", \"\\u677f\\u5757\", \"\\u6837\\u5b50\", \"\\u6837\\u677f\\u95f4\", \"\\u697c\\u5e02\", \"\\u697c\\u5e02\", \"\\u697c\\u76d8\", \"\\u6a21\\u5f0f\", \"\\u6a21\\u5f0f\", \"\\u6a21\\u5f0f\", \"\\u6a21\\u5f0f\", \"\\u6a21\\u5f0f\", \"\\u6a2a\\u76d8\", \"\\u6b66\\u5668\", \"\\u6b66\\u5668\", \"\\u6b66\\u5668\", \"\\u6b66\\u5668\", \"\\u6bcd\\u4eb2\", \"\\u6bcd\\u4eb2\", \"\\u6bcd\\u4eb2\", \"\\u6bd4\\u8d5b\", \"\\u6bd4\\u8d5b\", \"\\u6bd5\\u4e1a\", \"\\u6bd5\\u4e1a\", \"\\u6bd5\\u4e1a\\u751f\", \"\\u6c34\\u4f4d\", \"\\u6c47\\u7387\", \"\\u6c47\\u7387\", \"\\u6cb9\\u4ef7\", \"\\u6d3b\\u52a8\", \"\\u6d3b\\u52a8\", \"\\u6d3b\\u52a8\", \"\\u6d3b\\u52a8\", \"\\u6d3b\\u52a8\", \"\\u6d3b\\u585e\", \"\\u6d4b\\u8bd5\", \"\\u6d4b\\u8bd5\", \"\\u6d88\\u8d39\", \"\\u6d88\\u8d39\", \"\\u6d88\\u8d39\", \"\\u6d88\\u8d39\", \"\\u6d88\\u8d39\\u8005\", \"\\u6d88\\u8d39\\u8005\", \"\\u6e38\\u620f\", \"\\u6e38\\u620f\", \"\\u6e38\\u620f\", \"\\u6e56\\u4eba\", \"\\u6f14\\u5458\", \"\\u6f14\\u620f\", \"\\u6f14\\u6280\", \"\\u6fb3\\u5f69\", \"\\u706b\\u7bad\", \"\\u706b\\u7bad\", \"\\u706b\\u7bad\\u961f\", \"\\u70ed\\u706b\", \"\\u7167\\u7247\", \"\\u7167\\u7247\", \"\\u7231\\u597d\\u8005\", \"\\u7231\\u597d\\u8005\", \"\\u7231\\u597d\\u8005\", \"\\u7231\\u597d\\u8005\", \"\\u7236\\u4eb2\", \"\\u7236\\u4eb2\", \"\\u7247\\u5b50\", \"\\u7248\\u672c\", \"\\u7248\\u672c\", \"\\u7248\\u672c\", \"\\u7269\\u4e1a\", \"\\u72af\\u89c4\", \"\\u72b6\\u6001\", \"\\u72b6\\u6001\", \"\\u72b6\\u6001\", \"\\u72b6\\u6001\", \"\\u72b6\\u6001\", \"\\u72b6\\u6001\", \"\\u72b6\\u6001\", \"\\u73a9\\u5bb6\", \"\\u73af\\u5883\", \"\\u73af\\u5883\", \"\\u73af\\u5883\", \"\\u73af\\u5883\", \"\\u73af\\u5883\", \"\\u73af\\u5883\", \"\\u73b0\\u4ef7\", \"\\u73b0\\u573a\", \"\\u73b0\\u573a\", \"\\u73b0\\u573a\", \"\\u73b0\\u573a\", \"\\u73b0\\u573a\", \"\\u7403\\u5458\", \"\\u7403\\u573a\", \"\\u7403\\u8ff7\", \"\\u7403\\u8ff7\", \"\\u7403\\u961f\", \"\\u7406\\u5ff5\", \"\\u7406\\u5ff5\", \"\\u7406\\u5ff5\", \"\\u751f\\u547d\", \"\\u751f\\u547d\", \"\\u751f\\u6d3b\", \"\\u751f\\u6d3b\", \"\\u751f\\u6d3b\", \"\\u751f\\u6d3b\", \"\\u751f\\u6d3b\", \"\\u751f\\u6d3b\", \"\\u751f\\u6d3b\\u8d39\", \"\\u7528\\u6237\", \"\\u7528\\u6237\", \"\\u7528\\u6237\", \"\\u7535\\u5b50\\u7ade\\u6280\", \"\\u7535\\u5f71\", \"\\u7535\\u5f71\\u8282\", \"\\u7535\\u5f71\\u9662\", \"\\u7535\\u8111\", \"\\u7535\\u8111\", \"\\u7535\\u8111\", \"\\u7535\\u89c6\\u5267\", \"\\u7537\\u4e3b\\u89d2\", \"\\u7559\\u5b66\\u751f\", \"\\u767e\\u4e8b\", \"\\u76f4\\u64ad\", \"\\u76f4\\u64ad\", \"\\u76f4\\u64ad\", \"\\u76f4\\u64ad\", \"\\u76f4\\u64ad\", \"\\u773c\\u775b\", \"\\u77ff\\u4e1a\", \"\\u7814\\u7a76\", \"\\u7814\\u7a76\", \"\\u7814\\u7a76\", \"\\u7814\\u7a76\", \"\\u7814\\u7a76\", \"\\u7814\\u7a76\\u751f\", \"\\u7855\\u58eb\", \"\\u7855\\u58eb\", \"\\u793e\\u4f1a\", \"\\u793e\\u4f1a\", \"\\u793e\\u4f1a\", \"\\u793e\\u4f1a\", \"\\u793e\\u4f1a\", \"\\u793e\\u533a\", \"\\u793e\\u533a\", \"\\u793e\\u533a\", \"\\u7968\\u623f\", \"\\u79d1\\u5b66\", \"\\u79d1\\u5b66\", \"\\u79d1\\u5b66\\u5bb6\", \"\\u79d8\\u4e66\\u957f\", \"\\u79fb\\u52a8\", \"\\u79fb\\u52a8\", \"\\u79fb\\u52a8\", \"\\u79fb\\u52a8\", \"\\u79fb\\u6c11\", \"\\u7a3f\\u4ef6\", \"\\u7a3f\\u4ef6\", \"\\u7a7a\\u95f4\", \"\\u7a7a\\u95f4\", \"\\u7a7a\\u95f4\", \"\\u7a7a\\u95f4\", \"\\u7a7a\\u95f4\", \"\\u7a7a\\u95f4\", \"\\u7a7a\\u95f4\", \"\\u7a81\\u7834\", \"\\u7a81\\u7834\", \"\\u7a81\\u7834\", \"\\u7a81\\u7834\", \"\\u7ba1\\u7406\", \"\\u7ba1\\u7406\", \"\\u7ba1\\u7406\", \"\\u7ba1\\u7406\", \"\\u7bee\\u677f\", \"\\u7cfb\\u7edf\", \"\\u7cfb\\u7edf\", \"\\u7cfb\\u7edf\", \"\\u7cfb\\u7edf\", \"\\u7cfb\\u7edf\", \"\\u7eb3\\u65af\", \"\\u7ecf\\u5386\", \"\\u7ecf\\u5386\", \"\\u7ecf\\u5386\", \"\\u7ecf\\u5386\", \"\\u7ecf\\u5386\", \"\\u7ecf\\u5386\", \"\\u7ecf\\u5386\", \"\\u7ecf\\u6d4e\", \"\\u7ecf\\u6d4e\", \"\\u7ecf\\u6d4e\", \"\\u7ecf\\u8425\", \"\\u7ecf\\u8425\", \"\\u7ed3\\u679c\", \"\\u7ed3\\u679c\", \"\\u7ed3\\u679c\", \"\\u7ed3\\u679c\", \"\\u7ed3\\u679c\", \"\\u7ed3\\u679c\", \"\\u7eff\\u8272\", \"\\u7f16\\u5267\", \"\\u7f51\\u53cb\", \"\\u7f51\\u53cb\", \"\\u7f51\\u53cb\", \"\\u7f51\\u5427\", \"\\u7f51\\u5427\", \"\\u7f51\\u7ad9\", \"\\u7f51\\u7ad9\", \"\\u7f51\\u7ad9\", \"\\u7f51\\u7ad9\", \"\\u7f51\\u7ad9\", \"\\u7f51\\u7edc\", \"\\u7f51\\u7edc\", \"\\u7f51\\u7edc\", \"\\u7f51\\u7edc\", \"\\u7f51\\u7edc\\u6e38\\u620f\", \"\\u7f51\\u7edc\\u6e38\\u620f\", \"\\u7f6e\\u4e1a\", \"\\u7f8e\\u5973\", \"\\u7f8e\\u5973\", \"\\u8001\\u5e08\", \"\\u8001\\u5e08\", \"\\u8001\\u5e08\", \"\\u8001\\u5e08\", \"\\u804c\\u4e1a\", \"\\u804c\\u4e1a\", \"\\u804c\\u4e1a\", \"\\u804c\\u4e1a\", \"\\u804c\\u4e1a\", \"\\u8054\\u8d5b\", \"\\u80a1\\u4ef7\", \"\\u80a1\\u4ef7\", \"\\u80a1\\u5e02\", \"\\u80a1\\u5e02\", \"\\u80a1\\u7968\", \"\\u80a1\\u7968\", \"\\u80fd\\u529b\", \"\\u80fd\\u529b\", \"\\u80fd\\u529b\", \"\\u80fd\\u529b\", \"\\u80fd\\u529b\", \"\\u80fd\\u529b\", \"\\u827a\\u672f\", \"\\u827a\\u672f\", \"\\u827a\\u672f\", \"\\u82f1\\u8bed\", \"\\u884c\\u4e1a\", \"\\u884c\\u4e1a\", \"\\u884c\\u4e1a\", \"\\u884c\\u60c5\", \"\\u8863\\u670d\", \"\\u8865\\u8d34\", \"\\u8865\\u8d34\", \"\\u89c2\\u4f17\", \"\\u89c2\\u4f17\", \"\\u89c2\\u4f17\", \"\\u89c4\\u5212\", \"\\u89c4\\u5212\", \"\\u89c4\\u5212\", \"\\u89c6\\u9891\", \"\\u89c6\\u9891\", \"\\u89c6\\u9891\", \"\\u89d2\\u8272\", \"\\u89d2\\u8272\", \"\\u89d2\\u8272\", \"\\u89d2\\u8272\", \"\\u89d2\\u8272\", \"\\u89e3\\u5957\", \"\\u8ba1\\u5212\", \"\\u8ba1\\u5212\", \"\\u8ba1\\u5212\", \"\\u8ba1\\u5212\", \"\\u8ba1\\u5212\", \"\\u8ba1\\u5212\", \"\\u8bad\\u7ec3\", \"\\u8bad\\u7ec3\", \"\\u8bad\\u7ec3\", \"\\u8bad\\u7ec3\", \"\\u8bb0\\u8005\", \"\\u8bb0\\u8005\", \"\\u8bb0\\u8005\", \"\\u8bb0\\u8005\", \"\\u8bb0\\u8005\", \"\\u8bb0\\u8005\", \"\\u8bba\\u575b\", \"\\u8bba\\u575b\", \"\\u8bba\\u6587\", \"\\u8bbe\\u5907\", \"\\u8bbe\\u5907\", \"\\u8bbe\\u5907\", \"\\u8bbe\\u5907\", \"\\u8bbe\\u8ba1\", \"\\u8bbe\\u8ba1\", \"\\u8bbe\\u8ba1\", \"\\u8bbe\\u8ba1\", \"\\u8bbe\\u8ba1\", \"\\u8bbe\\u8ba1\\u5e08\", \"\\u8bbe\\u8ba1\\u5e08\", \"\\u8bc4\\u8bba\", \"\\u8bc4\\u8bba\", \"\\u8bc4\\u8bba\", \"\\u8bc4\\u8bba\", \"\\u8bed\\u8a00\", \"\\u8bed\\u8a00\", \"\\u8bed\\u8a00\", \"\\u8bed\\u8a00\", \"\\u8bfe\\u7a0b\", \"\\u8c03\\u6574\", \"\\u8c03\\u6574\", \"\\u8c03\\u6574\", \"\\u8c03\\u6574\", \"\\u8c03\\u6574\", \"\\u8c03\\u6574\", \"\\u8c03\\u6574\", \"\\u8c6a\\u5b85\", \"\\u8d1f\\u8d23\\u4eba\", \"\\u8d1f\\u8d23\\u4eba\", \"\\u8d22\\u7ecf\", \"\\u8d22\\u7ecf\", \"\\u8d22\\u7ecf\", \"\\u8d27\\u5e01\", \"\\u8d27\\u5e01\", \"\\u8d2d\\u623f\", \"\\u8d37\\u6b3e\", \"\\u8d44\\u672c\", \"\\u8d44\\u91d1\", \"\\u8d44\\u91d1\", \"\\u8d44\\u91d1\", \"\\u8d54\\u7387\", \"\\u8d5b\\u4e8b\", \"\\u8d5b\\u4e8b\", \"\\u8d5b\\u4e8b\", \"\\u8d5b\\u533a\", \"\\u8d62\\u7403\", \"\\u8d62\\u7403\", \"\\u8d70\\u52bf\", \"\\u8d70\\u52bf\", \"\\u8d8b\\u52bf\", \"\\u8d8b\\u52bf\", \"\\u8d8b\\u52bf\", \"\\u8d8b\\u52bf\", \"\\u8d8b\\u52bf\", \"\\u8db3\\u5f69\", \"\\u8db3\\u5f69\", \"\\u8df3\\u7a7a\", \"\\u8eab\\u4efd\", \"\\u8eab\\u4efd\", \"\\u8eab\\u4efd\", \"\\u8eab\\u4efd\", \"\\u8f68\\u9053\", \"\\u8f68\\u9053\", \"\\u8fc7\\u7a0b\", \"\\u8fc7\\u7a0b\", \"\\u8fc7\\u7a0b\", \"\\u8fc7\\u7a0b\", \"\\u8fc7\\u7a0b\", \"\\u8fc7\\u7a0b\", \"\\u8fc7\\u7a0b\", \"\\u8fd0\\u52a8\", \"\\u8fd0\\u52a8\", \"\\u8fd0\\u52a8\", \"\\u8fd0\\u52a8\", \"\\u8fd0\\u8425\\u5546\", \"\\u8fd0\\u8425\\u5546\", \"\\u91d1\\u878d\", \"\\u91d1\\u878d\", \"\\u91d1\\u878d\\u80a1\", \"\\u94f6\\u884c\", \"\\u94f6\\u884c\", \"\\u95ee\\u9898\", \"\\u95ee\\u9898\", \"\\u95ee\\u9898\", \"\\u95ee\\u9898\", \"\\u95ee\\u9898\", \"\\u95ee\\u9898\", \"\\u95ee\\u9898\", \"\\u95ee\\u9898\", \"\\u961f\\u53cb\", \"\\u961f\\u53cb\", \"\\u963b\\u529b\", \"\\u963b\\u529b\", \"\\u963b\\u529b\", \"\\u963b\\u529b\\u4f4d\", \"\\u9662\\u6821\", \"\\u9662\\u7ebf\", \"\\u96c6\\u56e2\", \"\\u96c6\\u56e2\", \"\\u96c6\\u56e2\", \"\\u96c6\\u56e2\", \"\\u96c6\\u56e2\", \"\\u9762\\u79ef\", \"\\u9762\\u79ef\", \"\\u9762\\u79ef\", \"\\u9879\\u76ee\", \"\\u9879\\u76ee\", \"\\u9879\\u76ee\", \"\\u9879\\u76ee\", \"\\u9879\\u76ee\", \"\\u9898\\u6750\", \"\\u9898\\u6750\", \"\\u98ce\\u9669\", \"\\u98ce\\u9669\", \"\\u98ce\\u9669\", \"\\u98de\\u673a\", \"\\u9910\\u5385\", \"\\u9910\\u5385\", \"\\u9970\\u6f14\", \"\\u9999\\u6e2f\\u7535\\u5f71\", \"\\u9ad8\\u70b9\", \"\\u9ad8\\u70b9\", \"\\u9ad8\\u7aef\", \"\\u9b54\\u517d\", \"\\u9b54\\u517d\", \"\\u9b54\\u517d\", \"\\u9ec4\\u91d1\", \"\\u9ec4\\u91d1\"]}, \"R\": 30, \"lambda.step\": 0.01, \"plot.opts\": {\"xlab\": \"PC1\", \"ylab\": \"PC2\"}, \"topic.order\": [6, 4, 8, 2, 3, 5, 1, 7]};\n",
       "\n",
       "function LDAvis_load_lib(url, callback){\n",
       "  var s = document.createElement('script');\n",
       "  s.src = url;\n",
       "  s.async = true;\n",
       "  s.onreadystatechange = s.onload = callback;\n",
       "  s.onerror = function(){console.warn(\"failed to load library \" + url);};\n",
       "  document.getElementsByTagName(\"head\")[0].appendChild(s);\n",
       "}\n",
       "\n",
       "if(typeof(LDAvis) !== \"undefined\"){\n",
       "   // already loaded: just create the visualization\n",
       "   !function(LDAvis){\n",
       "       new LDAvis(\"#\" + \"ldavis_el524025922287972327948571447\", ldavis_el524025922287972327948571447_data);\n",
       "   }(LDAvis);\n",
       "}else if(typeof define === \"function\" && define.amd){\n",
       "   // require.js is available: use it to load d3/LDAvis\n",
       "   require.config({paths: {d3: \"https://d3js.org/d3.v5\"}});\n",
       "   require([\"d3\"], function(d3){\n",
       "      window.d3 = d3;\n",
       "      LDAvis_load_lib(\"https://cdn.jsdelivr.net/gh/bmabey/pyLDAvis@3.3.1/pyLDAvis/js/ldavis.v3.0.0.js\", function(){\n",
       "        new LDAvis(\"#\" + \"ldavis_el524025922287972327948571447\", ldavis_el524025922287972327948571447_data);\n",
       "      });\n",
       "    });\n",
       "}else{\n",
       "    // require.js not available: dynamically load d3 & LDAvis\n",
       "    LDAvis_load_lib(\"https://d3js.org/d3.v5.js\", function(){\n",
       "         LDAvis_load_lib(\"https://cdn.jsdelivr.net/gh/bmabey/pyLDAvis@3.3.1/pyLDAvis/js/ldavis.v3.0.0.js\", function(){\n",
       "                 new LDAvis(\"#\" + \"ldavis_el524025922287972327948571447\", ldavis_el524025922287972327948571447_data);\n",
       "            })\n",
       "         });\n",
       "}\n",
       "</script>"
      ],
      "text/plain": [
       "<IPython.core.display.HTML object>"
      ]
     },
     "execution_count": 31,
     "metadata": {},
     "output_type": "execute_result"
    }
   ],
   "source": [
    "pyLDAvis.enable_notebook()\n",
    "pic = pyLDAvis.sklearn.prepare(lda, tf, tf_vectorizer)\n",
    "pyLDAvis.display(pic)\n",
    "pyLDAvis.save_html(pic, 'lda_pass'+str(n_topics)+'.html')\n",
    "pyLDAvis.display(pic)\n",
    "#去工作路径下找保存好的html文件\n",
    "#和视频里讲的不一样，目前这个代码不需要手动中断运行，可以快速出结果"
   ]
  },
  {
   "cell_type": "markdown",
   "metadata": {},
   "source": [
    "### 2.4困惑度 "
   ]
  },
  {
   "cell_type": "code",
   "execution_count": 21,
   "metadata": {},
   "outputs": [],
   "source": [
    "import matplotlib.pyplot as plt"
   ]
  },
  {
   "cell_type": "code",
   "execution_count": 23,
   "metadata": {},
   "outputs": [
    {
     "name": "stdout",
     "output_type": "stream",
     "text": [
      "1\n",
      "2\n",
      "3\n",
      "4\n",
      "5\n",
      "6\n",
      "7\n",
      "8\n",
      "9\n",
      "10\n",
      "11\n",
      "12\n",
      "13\n",
      "14\n",
      "15\n",
      "16\n",
      "17\n",
      "18\n",
      "19\n",
      "20\n"
     ]
    }
   ],
   "source": [
    "plexs = []\n",
    "scores = []\n",
    "n_max_topics = 21\n",
    "for i in range(1,n_max_topics):\n",
    "    print(i)\n",
    "    lda = LatentDirichletAllocation(n_components=i, max_iter=50,\n",
    "                                    learning_method='batch',\n",
    "                                    learning_offset=50,random_state=0)\n",
    "    lda.fit(tf)\n",
    "    plexs.append(lda.perplexity(tf))\n",
    "    scores.append(lda.score(tf))"
   ]
  },
  {
   "cell_type": "code",
   "execution_count": 25,
   "metadata": {
    "scrolled": false
   },
   "outputs": [
    {
     "data": {
      "image/png": "[encoded data removed]",
      "text/plain": [
       "<Figure size 640x480 with 1 Axes>"
      ]
     },
     "metadata": {},
     "output_type": "display_data"
    }
   ],
   "source": [
    "n_t=20#区间最右侧的值。注意：不能大于n_max_topics\n",
    "x=list(range(1,n_t+1))\n",
    "plt.plot(x,plexs[0:n_t])\n",
    "plt.xlabel(\"number of topics\")\n",
    "plt.ylabel(\"perplexity\")\n",
    "plt.show()"
   ]
  },
  {
   "cell_type": "code",
   "execution_count": 19,
   "metadata": {},
   "outputs": [],
   "source": [
    "import gensim\n",
    "from gensim import corpora\n",
    "import matplotlib.pyplot as plt\n",
    "import matplotlib\n",
    "import numpy as np\n",
    "import warnings\n",
    "warnings.filterwarnings('ignore')  # To ignore all warnings that arise here to enhance clarity\n",
    " \n",
    "from gensim.models.coherencemodel import CoherenceModel\n",
    "from gensim.models.ldamodel import LdaModel"
   ]
  },
  {
   "cell_type": "code",
   "execution_count": 21,
   "metadata": {},
   "outputs": [
    {
     "ename": "NameError",
     "evalue": "name 'x' is not defined",
     "output_type": "error",
     "traceback": [
      "\u001b[1;31m---------------------------------------------------------------------------\u001b[0m",
      "\u001b[1;31mNameError\u001b[0m                                 Traceback (most recent call last)",
      "\u001b[1;32m~\\AppData\\Local\\Temp\\ipykernel_15936\\1544471129.py\u001b[0m in \u001b[0;36m<module>\u001b[1;34m\u001b[0m\n\u001b[0;32m     14\u001b[0m \u001b[1;33m\u001b[0m\u001b[0m\n\u001b[0;32m     15\u001b[0m \u001b[0max1\u001b[0m \u001b[1;33m=\u001b[0m \u001b[0mfig\u001b[0m\u001b[1;33m.\u001b[0m\u001b[0madd_subplot\u001b[0m\u001b[1;33m(\u001b[0m\u001b[1;36m1\u001b[0m\u001b[1;33m,\u001b[0m \u001b[1;36m2\u001b[0m\u001b[1;33m,\u001b[0m \u001b[1;36m1\u001b[0m\u001b[1;33m)\u001b[0m\u001b[1;33m\u001b[0m\u001b[1;33m\u001b[0m\u001b[0m\n\u001b[1;32m---> 16\u001b[1;33m \u001b[0mplt\u001b[0m\u001b[1;33m.\u001b[0m\u001b[0mplot\u001b[0m\u001b[1;33m(\u001b[0m\u001b[0mx\u001b[0m\u001b[1;33m,\u001b[0m \u001b[0mperplexity_values\u001b[0m\u001b[1;33m,\u001b[0m \u001b[0mmarker\u001b[0m\u001b[1;33m=\u001b[0m\u001b[1;34m\"o\"\u001b[0m\u001b[1;33m)\u001b[0m\u001b[1;33m\u001b[0m\u001b[1;33m\u001b[0m\u001b[0m\n\u001b[0m\u001b[0;32m     17\u001b[0m \u001b[0mplt\u001b[0m\u001b[1;33m.\u001b[0m\u001b[0mtitle\u001b[0m\u001b[1;33m(\u001b[0m\u001b[1;34m\"主题建模-困惑度\"\u001b[0m\u001b[1;33m)\u001b[0m\u001b[1;33m\u001b[0m\u001b[1;33m\u001b[0m\u001b[0m\n\u001b[0;32m     18\u001b[0m \u001b[0mplt\u001b[0m\u001b[1;33m.\u001b[0m\u001b[0mxlabel\u001b[0m\u001b[1;33m(\u001b[0m\u001b[1;34m'主题数目'\u001b[0m\u001b[1;33m)\u001b[0m\u001b[1;33m\u001b[0m\u001b[1;33m\u001b[0m\u001b[0m\n",
      "\u001b[1;31mNameError\u001b[0m: name 'x' is not defined"
     ]
    },
    {
     "data": {
      "image/png": "[encoded data removed]",
      "text/plain": [
       "<Figure size 1500x500 with 1 Axes>"
      ]
     },
     "metadata": {},
     "output_type": "display_data"
    }
   ],
   "source": [
    "import matplotlib.pyplot as plt\n",
    "import matplotlib\n",
    "from pylab import xticks,yticks,np\n",
    "\n",
    "\n",
    "# 调用准备函数\n",
    "model_list, x, perplexity_values, coherence_values = lda_model_values(num_topics, corpus, dictionary) \n",
    "\n",
    "# 绘制困惑度和一致性折线图\n",
    "fig = plt.figure(figsize=(15,5))\n",
    "plt.rcParams['font.sans-serif']=['SimHei']\n",
    "matplotlib.rcParams['axes.unicode_minus'] = False \n",
    "\n",
    "\n",
    "ax1 = fig.add_subplot(1, 2, 1)\n",
    "plt.plot(x, perplexity_values, marker=\"o\")\n",
    "plt.title(\"主题建模-困惑度\")\n",
    "plt.xlabel('主题数目')\n",
    "plt.ylabel('困惑度大小')\n",
    "xticks(np.linspace(1, num_topics, num_topics, endpoint=True)) # 保证x轴刻度为1\n",
    "\n",
    "\n",
    "\n",
    "ax2 = fig.add_subplot(1, 2, 2)\n",
    "plt.plot(x, coherence_values, marker=\"o\")\n",
    "plt.title(\"主题建模-一致性\")\n",
    "plt.xlabel(\"主题数目\")\n",
    "plt.ylabel(\"一致性大小\")\n",
    "xticks(np.linspace(1, num_topics, num_topics, endpoint=True))\n",
    "\n",
    "\n",
    "plt.show()"
   ]
  },
  {
   "cell_type": "code",
   "execution_count": null,
   "metadata": {},
   "outputs": [],
   "source": []
  }
 ],
 "metadata": {
  "kernelspec": {
   "display_name": "Python 3 (ipykernel)",
   "language": "python",
   "name": "python3"
  },
  "language_info": {
   "codemirror_mode": {
    "name": "ipython",
    "version": 3
   },
   "file_extension": ".py",
   "mimetype": "text/x-python",
   "name": "python",
   "nbconvert_exporter": "python",
   "pygments_lexer": "ipython3",
   "version": "3.9.18"
  },
  "toc": {
   "base_numbering": 1,
   "nav_menu": {},
   "number_sections": true,
   "sideBar": true,
   "skip_h1_title": false,
   "title_cell": "Table of Contents",
   "title_sidebar": "Contents",
   "toc_cell": false,
   "toc_position": {
    "height": "303.324px",
    "left": "114px",
    "top": "110.322px",
    "width": "165px"
   },
   "toc_section_display": true,
   "toc_window_display": true
  }
 },
 "nbformat": 4,
 "nbformat_minor": 2
}
