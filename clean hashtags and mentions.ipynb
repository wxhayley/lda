{
 "cells": [
  {
   "cell_type": "code",
   "execution_count": null,
   "id": "f92f4ce2",
   "metadata": {},
   "outputs": [],
   "source": []
  },
  {
   "cell_type": "code",
   "execution_count": null,
   "id": "e30e1fad",
   "metadata": {},
   "outputs": [],
   "source": [
    "import pandas as pd\n",
    "import jieba\n",
    "import re"
   ]
  },
  {
   "cell_type": "code",
   "execution_count": 2,
   "id": "3cfe4098",
   "metadata": {},
   "outputs": [],
   "source": [
    "def clean_text(text):\n",
    "    # Tokenize the text using Jieba\n",
    "    tokens = jieba.cut(text, cut_all=False)\n",
    "    \n",
    "    # Remove hashtags and mentions\n",
    "    cleaned_tokens = [token for token in tokens if not re.match(r'(^#\\w+$)|(^@\\w+$)', token)]\n",
    "    \n",
    "    # Join the cleaned tokens back into a string\n",
    "    cleaned_text = ' '.join(cleaned_tokens)\n",
    "    \n",
    "    return cleaned_text"
   ]
  },
  {
   "cell_type": "code",
   "execution_count": 3,
   "id": "0853e307",
   "metadata": {},
   "outputs": [],
   "source": [
    "# Load the Excel file\n",
    "input_file = 'D:/python/lda/data/data.xlsx'\n",
    "output_file = 'D:/python/lda/data/data_cleaned.xlsx'"
   ]
  },
  {
   "cell_type": "code",
   "execution_count": 1,
   "id": "fdf1d9b6",
   "metadata": {},
   "outputs": [
    {
     "name": "stdout",
     "output_type": "stream",
     "text": [
      "Error: name 'pd' is not defined\n"
     ]
    }
   ],
   "source": [
    "try:\n",
    "    df = pd.read_excel(input_file_path, header=None, names=['content'])\n",
    "except Exception as e:\n",
    "    print(f\"Error: {e}\")\n",
    "    exit()"
   ]
  },
  {
   "cell_type": "code",
   "execution_count": null,
   "id": "4700cc63",
   "metadata": {},
   "outputs": [],
   "source": [
    "# Apply the clean_text function to the 'Weibo Post' column\n",
    "df['Cleaned Weibo Post'] = df['content'].apply(clean_text)\n",
    "\n",
    "# Save the cleaned data to a new Excel file\n",
    "df[['Cleaned Weibo Post']].to_excel(output_file_path, index=False)\n",
    "\n",
    "print(f'Cleaned data saved to {output_file_path}')"
   ]
  }
 ],
 "metadata": {
  "kernelspec": {
   "display_name": "Python 3 (ipykernel)",
   "language": "python",
   "name": "python3"
  },
  "language_info": {
   "codemirror_mode": {
    "name": "ipython",
    "version": 3
   },
   "file_extension": ".py",
   "mimetype": "text/x-python",
   "name": "python",
   "nbconvert_exporter": "python",
   "pygments_lexer": "ipython3",
   "version": "3.9.18"
  }
 },
 "nbformat": 4,
 "nbformat_minor": 5
}
